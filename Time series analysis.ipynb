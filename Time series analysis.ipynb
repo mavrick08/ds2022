{
 "cells": [
  {
   "cell_type": "code",
   "execution_count": 1,
   "id": "13fdead7",
   "metadata": {},
   "outputs": [],
   "source": [
    "from datetime import datetime"
   ]
  },
  {
   "cell_type": "code",
   "execution_count": 2,
   "id": "8bdc06c3",
   "metadata": {},
   "outputs": [],
   "source": [
    "now = datetime.now()"
   ]
  },
  {
   "cell_type": "code",
   "execution_count": 3,
   "id": "6be65e4e",
   "metadata": {},
   "outputs": [
    {
     "name": "stdout",
     "output_type": "stream",
     "text": [
      "2022-03-29 14:32:16.376119\n"
     ]
    }
   ],
   "source": [
    "print(now)"
   ]
  },
  {
   "cell_type": "code",
   "execution_count": 5,
   "id": "a3e2c910",
   "metadata": {},
   "outputs": [
    {
     "data": {
      "text/plain": [
       "datetime.datetime"
      ]
     },
     "execution_count": 5,
     "metadata": {},
     "output_type": "execute_result"
    }
   ],
   "source": [
    "type(now)"
   ]
  },
  {
   "cell_type": "code",
   "execution_count": 6,
   "id": "c85d24a7",
   "metadata": {},
   "outputs": [
    {
     "data": {
      "text/plain": [
       "2022"
      ]
     },
     "execution_count": 6,
     "metadata": {},
     "output_type": "execute_result"
    }
   ],
   "source": [
    "now.year"
   ]
  },
  {
   "cell_type": "code",
   "execution_count": 7,
   "id": "f61789e2",
   "metadata": {},
   "outputs": [
    {
     "data": {
      "text/plain": [
       "3"
      ]
     },
     "execution_count": 7,
     "metadata": {},
     "output_type": "execute_result"
    }
   ],
   "source": [
    "now.month"
   ]
  },
  {
   "cell_type": "code",
   "execution_count": 9,
   "id": "5f8fa8d2",
   "metadata": {},
   "outputs": [
    {
     "data": {
      "text/plain": [
       "29"
      ]
     },
     "execution_count": 9,
     "metadata": {},
     "output_type": "execute_result"
    }
   ],
   "source": [
    "now.day"
   ]
  },
  {
   "cell_type": "code",
   "execution_count": 10,
   "id": "52dbf920",
   "metadata": {},
   "outputs": [
    {
     "data": {
      "text/plain": [
       "14"
      ]
     },
     "execution_count": 10,
     "metadata": {},
     "output_type": "execute_result"
    }
   ],
   "source": [
    "now.hour"
   ]
  },
  {
   "cell_type": "code",
   "execution_count": 11,
   "id": "632c772c",
   "metadata": {},
   "outputs": [
    {
     "data": {
      "text/plain": [
       "32"
      ]
     },
     "execution_count": 11,
     "metadata": {},
     "output_type": "execute_result"
    }
   ],
   "source": [
    "now.minute"
   ]
  },
  {
   "cell_type": "code",
   "execution_count": 12,
   "id": "c4475acb",
   "metadata": {},
   "outputs": [
    {
     "data": {
      "text/plain": [
       "16"
      ]
     },
     "execution_count": 12,
     "metadata": {},
     "output_type": "execute_result"
    }
   ],
   "source": [
    "now.second"
   ]
  },
  {
   "cell_type": "code",
   "execution_count": 13,
   "id": "9dec5016",
   "metadata": {},
   "outputs": [
    {
     "data": {
      "text/plain": [
       "376119"
      ]
     },
     "execution_count": 13,
     "metadata": {},
     "output_type": "execute_result"
    }
   ],
   "source": [
    "now.microsecond"
   ]
  },
  {
   "cell_type": "code",
   "execution_count": 15,
   "id": "b2c9d7d6",
   "metadata": {},
   "outputs": [
    {
     "data": {
      "text/plain": [
       "1"
      ]
     },
     "execution_count": 15,
     "metadata": {},
     "output_type": "execute_result"
    }
   ],
   "source": [
    "now.weekday()"
   ]
  },
  {
   "cell_type": "code",
   "execution_count": 16,
   "id": "13ec41e4",
   "metadata": {},
   "outputs": [],
   "source": [
    "delta = datetime(2022,3,29) - datetime(2022,3,20)"
   ]
  },
  {
   "cell_type": "code",
   "execution_count": 17,
   "id": "fdbf046c",
   "metadata": {},
   "outputs": [
    {
     "data": {
      "text/plain": [
       "datetime.timedelta(days=9)"
      ]
     },
     "execution_count": 17,
     "metadata": {},
     "output_type": "execute_result"
    }
   ],
   "source": [
    "delta"
   ]
  },
  {
   "cell_type": "code",
   "execution_count": 21,
   "id": "2b5a9e24",
   "metadata": {},
   "outputs": [],
   "source": [
    "delta = datetime(2022,3,29,8,15,30) - datetime(2020,3,20)"
   ]
  },
  {
   "cell_type": "code",
   "execution_count": 22,
   "id": "be696743",
   "metadata": {},
   "outputs": [
    {
     "data": {
      "text/plain": [
       "datetime.timedelta(days=739, seconds=29730)"
      ]
     },
     "execution_count": 22,
     "metadata": {},
     "output_type": "execute_result"
    }
   ],
   "source": [
    "delta"
   ]
  },
  {
   "cell_type": "code",
   "execution_count": null,
   "id": "774c088a",
   "metadata": {},
   "outputs": [],
   "source": []
  },
  {
   "cell_type": "markdown",
   "id": "9f8c5abc",
   "metadata": {},
   "source": [
    "## conversion between string & datetime"
   ]
  },
  {
   "cell_type": "code",
   "execution_count": 23,
   "id": "11e70afd",
   "metadata": {},
   "outputs": [],
   "source": [
    "stamp = datetime(2022,3,29)"
   ]
  },
  {
   "cell_type": "code",
   "execution_count": 24,
   "id": "7dcc42a4",
   "metadata": {},
   "outputs": [
    {
     "data": {
      "text/plain": [
       "datetime.datetime(2022, 3, 29, 0, 0)"
      ]
     },
     "execution_count": 24,
     "metadata": {},
     "output_type": "execute_result"
    }
   ],
   "source": [
    "stamp"
   ]
  },
  {
   "cell_type": "code",
   "execution_count": 25,
   "id": "7b70e087",
   "metadata": {},
   "outputs": [
    {
     "data": {
      "text/plain": [
       "datetime.datetime"
      ]
     },
     "execution_count": 25,
     "metadata": {},
     "output_type": "execute_result"
    }
   ],
   "source": [
    "type(stamp)"
   ]
  },
  {
   "cell_type": "code",
   "execution_count": 27,
   "id": "2630c7d1",
   "metadata": {},
   "outputs": [],
   "source": [
    "val = str(stamp)"
   ]
  },
  {
   "cell_type": "code",
   "execution_count": 29,
   "id": "9c2b2249",
   "metadata": {},
   "outputs": [
    {
     "data": {
      "text/plain": [
       "'2022-03-29 00:00:00'"
      ]
     },
     "execution_count": 29,
     "metadata": {},
     "output_type": "execute_result"
    }
   ],
   "source": [
    "val"
   ]
  },
  {
   "cell_type": "code",
   "execution_count": 28,
   "id": "edc7556e",
   "metadata": {},
   "outputs": [
    {
     "data": {
      "text/plain": [
       "str"
      ]
     },
     "execution_count": 28,
     "metadata": {},
     "output_type": "execute_result"
    }
   ],
   "source": [
    "type(val)"
   ]
  },
  {
   "cell_type": "code",
   "execution_count": 31,
   "id": "5a359921",
   "metadata": {},
   "outputs": [
    {
     "data": {
      "text/plain": [
       "'2022-03-29'"
      ]
     },
     "execution_count": 31,
     "metadata": {},
     "output_type": "execute_result"
    }
   ],
   "source": [
    "stamp.strftime('%Y-%m-%d')"
   ]
  },
  {
   "cell_type": "code",
   "execution_count": 32,
   "id": "992ad8dd",
   "metadata": {},
   "outputs": [
    {
     "data": {
      "text/plain": [
       "'2022/03/29'"
      ]
     },
     "execution_count": 32,
     "metadata": {},
     "output_type": "execute_result"
    }
   ],
   "source": [
    "stamp.strftime('%Y/%m/%d')"
   ]
  },
  {
   "cell_type": "code",
   "execution_count": null,
   "id": "1bd03dbf",
   "metadata": {},
   "outputs": [],
   "source": []
  },
  {
   "cell_type": "markdown",
   "id": "cef69db3",
   "metadata": {},
   "source": [
    "## converting string to datetime"
   ]
  },
  {
   "cell_type": "code",
   "execution_count": 33,
   "id": "b2e6b3a3",
   "metadata": {},
   "outputs": [
    {
     "data": {
      "text/plain": [
       "'2022-03-29 00:00:00'"
      ]
     },
     "execution_count": 33,
     "metadata": {},
     "output_type": "execute_result"
    }
   ],
   "source": [
    "val"
   ]
  },
  {
   "cell_type": "code",
   "execution_count": 35,
   "id": "d16ccd76",
   "metadata": {},
   "outputs": [
    {
     "data": {
      "text/plain": [
       "datetime.datetime(2022, 3, 29, 0, 0)"
      ]
     },
     "execution_count": 35,
     "metadata": {},
     "output_type": "execute_result"
    }
   ],
   "source": [
    "datetime.strptime(val,'%Y-%m-%d %H:%M:%S')"
   ]
  },
  {
   "cell_type": "code",
   "execution_count": null,
   "id": "58a3cc73",
   "metadata": {},
   "outputs": [],
   "source": [
    "datetime"
   ]
  },
  {
   "cell_type": "code",
   "execution_count": 36,
   "id": "0d20dce9",
   "metadata": {},
   "outputs": [],
   "source": [
    "mydates = ['08/01/1993','11/11/2000','29/12/1999','20/10/2003']"
   ]
  },
  {
   "cell_type": "code",
   "execution_count": 37,
   "id": "55b7ee6d",
   "metadata": {},
   "outputs": [
    {
     "data": {
      "text/plain": [
       "['08/01/1993', '11/11/2000', '29/12/1999', '20/10/2003']"
      ]
     },
     "execution_count": 37,
     "metadata": {},
     "output_type": "execute_result"
    }
   ],
   "source": [
    "mydates"
   ]
  },
  {
   "cell_type": "code",
   "execution_count": 44,
   "id": "4f681dae",
   "metadata": {},
   "outputs": [],
   "source": [
    "result = [datetime.strptime(item,'%d/%m/%Y')  for item in mydates]"
   ]
  },
  {
   "cell_type": "code",
   "execution_count": 42,
   "id": "4cde5d52",
   "metadata": {},
   "outputs": [
    {
     "name": "stdout",
     "output_type": "stream",
     "text": [
      "1993-01-08 00:00:00\n",
      "2000-11-11 00:00:00\n",
      "1999-12-29 00:00:00\n",
      "2003-10-20 00:00:00\n"
     ]
    }
   ],
   "source": [
    "for res in result:\n",
    "    print(res)"
   ]
  },
  {
   "cell_type": "code",
   "execution_count": null,
   "id": "258f4f21",
   "metadata": {},
   "outputs": [],
   "source": []
  },
  {
   "cell_type": "markdown",
   "id": "e51b45b9",
   "metadata": {},
   "source": [
    "## time series in pandas"
   ]
  },
  {
   "cell_type": "code",
   "execution_count": 45,
   "id": "3c91d05a",
   "metadata": {},
   "outputs": [],
   "source": [
    "import numpy as np\n",
    "import pandas as pd"
   ]
  },
  {
   "cell_type": "code",
   "execution_count": 46,
   "id": "0e7e1340",
   "metadata": {},
   "outputs": [],
   "source": [
    "dates = [\n",
    "    datetime(2022,1,2),\n",
    "    datetime(2022,1,5),\n",
    "    datetime(2022,1,7),\n",
    "    datetime(2022,1,8),\n",
    "    datetime(2022,1,10),\n",
    "    datetime(2022,1,12)\n",
    "    \n",
    "]"
   ]
  },
  {
   "cell_type": "code",
   "execution_count": 47,
   "id": "4c7ba2d5",
   "metadata": {},
   "outputs": [
    {
     "data": {
      "text/plain": [
       "[datetime.datetime(2022, 1, 2, 0, 0),\n",
       " datetime.datetime(2022, 1, 5, 0, 0),\n",
       " datetime.datetime(2022, 1, 7, 0, 0),\n",
       " datetime.datetime(2022, 1, 8, 0, 0),\n",
       " datetime.datetime(2022, 1, 10, 0, 0),\n",
       " datetime.datetime(2022, 1, 12, 0, 0)]"
      ]
     },
     "execution_count": 47,
     "metadata": {},
     "output_type": "execute_result"
    }
   ],
   "source": [
    "dates"
   ]
  },
  {
   "cell_type": "code",
   "execution_count": 48,
   "id": "6d78b8fd",
   "metadata": {},
   "outputs": [],
   "source": [
    "mydata = pd.Series(np.random.randn(6),index=dates)"
   ]
  },
  {
   "cell_type": "code",
   "execution_count": 49,
   "id": "c5cba6a3",
   "metadata": {},
   "outputs": [
    {
     "data": {
      "text/plain": [
       "2022-01-02    0.675661\n",
       "2022-01-05    0.351572\n",
       "2022-01-07   -0.969880\n",
       "2022-01-08   -0.016072\n",
       "2022-01-10    1.492599\n",
       "2022-01-12   -0.804258\n",
       "dtype: float64"
      ]
     },
     "execution_count": 49,
     "metadata": {},
     "output_type": "execute_result"
    }
   ],
   "source": [
    "mydata"
   ]
  },
  {
   "cell_type": "code",
   "execution_count": 50,
   "id": "7258cfbd",
   "metadata": {},
   "outputs": [
    {
     "data": {
      "text/plain": [
       "0.6756607628299116"
      ]
     },
     "execution_count": 50,
     "metadata": {},
     "output_type": "execute_result"
    }
   ],
   "source": [
    "mydata['2022-01-02']"
   ]
  },
  {
   "cell_type": "code",
   "execution_count": 51,
   "id": "e690856f",
   "metadata": {},
   "outputs": [
    {
     "data": {
      "text/plain": [
       "0.6756607628299116"
      ]
     },
     "execution_count": 51,
     "metadata": {},
     "output_type": "execute_result"
    }
   ],
   "source": [
    "mydata[0]"
   ]
  },
  {
   "cell_type": "code",
   "execution_count": null,
   "id": "74d6e98f",
   "metadata": {},
   "outputs": [],
   "source": []
  },
  {
   "cell_type": "code",
   "execution_count": 54,
   "id": "8bf11db0",
   "metadata": {},
   "outputs": [],
   "source": [
    "new_data = pd.Series(np.random.randn(1000),index=pd.date_range('1/1/2022',periods=1000))"
   ]
  },
  {
   "cell_type": "code",
   "execution_count": 55,
   "id": "36dfeb92",
   "metadata": {},
   "outputs": [
    {
     "data": {
      "text/plain": [
       "2022-01-01   -0.846203\n",
       "2022-01-02   -0.473187\n",
       "2022-01-03    0.239096\n",
       "2022-01-04   -1.037555\n",
       "2022-01-05    1.109460\n",
       "                ...   \n",
       "2024-09-22   -0.539259\n",
       "2024-09-23   -2.247520\n",
       "2024-09-24    0.365047\n",
       "2024-09-25   -0.942497\n",
       "2024-09-26   -0.662417\n",
       "Freq: D, Length: 1000, dtype: float64"
      ]
     },
     "execution_count": 55,
     "metadata": {},
     "output_type": "execute_result"
    }
   ],
   "source": [
    "new_data"
   ]
  },
  {
   "cell_type": "code",
   "execution_count": 56,
   "id": "93cf0b3d",
   "metadata": {},
   "outputs": [
    {
     "data": {
      "text/plain": [
       "2022-03-01    0.345873\n",
       "2022-03-02   -0.127943\n",
       "2022-03-03    0.578887\n",
       "2022-03-04    0.514913\n",
       "2022-03-05    0.920562\n",
       "2022-03-06   -0.792315\n",
       "2022-03-07    0.220183\n",
       "2022-03-08    1.209597\n",
       "2022-03-09   -0.099704\n",
       "2022-03-10   -0.688605\n",
       "2022-03-11    0.039156\n",
       "2022-03-12   -0.604130\n",
       "2022-03-13    0.281138\n",
       "2022-03-14   -1.935682\n",
       "2022-03-15   -0.576119\n",
       "2022-03-16   -1.592428\n",
       "2022-03-17   -0.294542\n",
       "2022-03-18   -1.410579\n",
       "2022-03-19   -1.010801\n",
       "2022-03-20    1.010430\n",
       "2022-03-21    0.305809\n",
       "2022-03-22    1.272428\n",
       "2022-03-23   -0.441890\n",
       "2022-03-24    1.670691\n",
       "2022-03-25    0.730742\n",
       "2022-03-26   -0.708058\n",
       "2022-03-27    0.751594\n",
       "2022-03-28    0.173568\n",
       "2022-03-29    0.920432\n",
       "2022-03-30    1.406187\n",
       "2022-03-31   -0.458842\n",
       "Freq: D, dtype: float64"
      ]
     },
     "execution_count": 56,
     "metadata": {},
     "output_type": "execute_result"
    }
   ],
   "source": [
    "new_data['2022-03']"
   ]
  },
  {
   "cell_type": "code",
   "execution_count": 57,
   "id": "2d2ac035",
   "metadata": {},
   "outputs": [
    {
     "data": {
      "text/plain": [
       "2022-04-01   -0.124782\n",
       "2022-04-02    1.586241\n",
       "2022-04-03   -0.017411\n",
       "2022-04-04   -0.840605\n",
       "2022-04-05    0.357928\n",
       "                ...   \n",
       "2022-05-28    1.259495\n",
       "2022-05-29    0.375460\n",
       "2022-05-30    0.979385\n",
       "2022-05-31    1.419994\n",
       "2022-06-01    0.636351\n",
       "Freq: D, Length: 62, dtype: float64"
      ]
     },
     "execution_count": 57,
     "metadata": {},
     "output_type": "execute_result"
    }
   ],
   "source": [
    "new_data['2022-04-01':'2022-06-01']"
   ]
  },
  {
   "cell_type": "code",
   "execution_count": null,
   "id": "58c5501a",
   "metadata": {},
   "outputs": [],
   "source": []
  },
  {
   "cell_type": "markdown",
   "id": "f786cdd9",
   "metadata": {},
   "source": [
    "## specific weekday"
   ]
  },
  {
   "cell_type": "code",
   "execution_count": 58,
   "id": "18d074b7",
   "metadata": {},
   "outputs": [],
   "source": [
    "dates = pd.date_range('1/1/2022',periods=365,freq='W-WED')"
   ]
  },
  {
   "cell_type": "code",
   "execution_count": 59,
   "id": "9a3579a9",
   "metadata": {},
   "outputs": [
    {
     "data": {
      "text/plain": [
       "DatetimeIndex(['2022-01-05', '2022-01-12', '2022-01-19', '2022-01-26',\n",
       "               '2022-02-02', '2022-02-09', '2022-02-16', '2022-02-23',\n",
       "               '2022-03-02', '2022-03-09',\n",
       "               ...\n",
       "               '2028-10-25', '2028-11-01', '2028-11-08', '2028-11-15',\n",
       "               '2028-11-22', '2028-11-29', '2028-12-06', '2028-12-13',\n",
       "               '2028-12-20', '2028-12-27'],\n",
       "              dtype='datetime64[ns]', length=365, freq='W-WED')"
      ]
     },
     "execution_count": 59,
     "metadata": {},
     "output_type": "execute_result"
    }
   ],
   "source": [
    "dates"
   ]
  },
  {
   "cell_type": "code",
   "execution_count": null,
   "id": "b35ce22a",
   "metadata": {},
   "outputs": [],
   "source": []
  },
  {
   "cell_type": "code",
   "execution_count": 60,
   "id": "aa43b9d5",
   "metadata": {},
   "outputs": [],
   "source": [
    "dates = pd.DatetimeIndex(['1/1/2000','1/2/2000','1/2/2000','1/2/2000','1-3-2000'])"
   ]
  },
  {
   "cell_type": "code",
   "execution_count": 61,
   "id": "1d1422ee",
   "metadata": {},
   "outputs": [
    {
     "data": {
      "text/plain": [
       "DatetimeIndex(['2000-01-01', '2000-01-02', '2000-01-02', '2000-01-02',\n",
       "               '2000-01-03'],\n",
       "              dtype='datetime64[ns]', freq=None)"
      ]
     },
     "execution_count": 61,
     "metadata": {},
     "output_type": "execute_result"
    }
   ],
   "source": [
    "dates"
   ]
  },
  {
   "cell_type": "code",
   "execution_count": 62,
   "id": "06469b7c",
   "metadata": {},
   "outputs": [],
   "source": [
    "dup_ser = pd.Series(np.arange(5),index=dates)"
   ]
  },
  {
   "cell_type": "code",
   "execution_count": 63,
   "id": "b4849111",
   "metadata": {},
   "outputs": [
    {
     "data": {
      "text/plain": [
       "2000-01-01    0\n",
       "2000-01-02    1\n",
       "2000-01-02    2\n",
       "2000-01-02    3\n",
       "2000-01-03    4\n",
       "dtype: int64"
      ]
     },
     "execution_count": 63,
     "metadata": {},
     "output_type": "execute_result"
    }
   ],
   "source": [
    "dup_ser"
   ]
  },
  {
   "cell_type": "code",
   "execution_count": 64,
   "id": "389e23fe",
   "metadata": {},
   "outputs": [
    {
     "data": {
      "text/plain": [
       "False"
      ]
     },
     "execution_count": 64,
     "metadata": {},
     "output_type": "execute_result"
    }
   ],
   "source": [
    "dup_ser.index.is_unique"
   ]
  },
  {
   "cell_type": "code",
   "execution_count": 66,
   "id": "9ccde641",
   "metadata": {},
   "outputs": [],
   "source": [
    "grouped = dup_ser.groupby(level=0)"
   ]
  },
  {
   "cell_type": "code",
   "execution_count": 67,
   "id": "47289bd5",
   "metadata": {},
   "outputs": [
    {
     "data": {
      "text/plain": [
       "2000-01-01    1\n",
       "2000-01-02    3\n",
       "2000-01-03    1\n",
       "dtype: int64"
      ]
     },
     "execution_count": 67,
     "metadata": {},
     "output_type": "execute_result"
    }
   ],
   "source": [
    "grouped.count()"
   ]
  },
  {
   "cell_type": "code",
   "execution_count": 68,
   "id": "4f5cb009",
   "metadata": {},
   "outputs": [
    {
     "data": {
      "text/plain": [
       "2000-01-01    0\n",
       "2000-01-02    6\n",
       "2000-01-03    4\n",
       "dtype: int64"
      ]
     },
     "execution_count": 68,
     "metadata": {},
     "output_type": "execute_result"
    }
   ],
   "source": [
    "grouped.sum()"
   ]
  },
  {
   "cell_type": "code",
   "execution_count": 69,
   "id": "1ee52fc9",
   "metadata": {},
   "outputs": [
    {
     "data": {
      "text/plain": [
       "2000-01-01    0\n",
       "2000-01-02    2\n",
       "2000-01-03    4\n",
       "dtype: int64"
      ]
     },
     "execution_count": 69,
     "metadata": {},
     "output_type": "execute_result"
    }
   ],
   "source": [
    "grouped.mean()"
   ]
  },
  {
   "cell_type": "code",
   "execution_count": null,
   "id": "f3fc5b7e",
   "metadata": {},
   "outputs": [],
   "source": []
  },
  {
   "cell_type": "code",
   "execution_count": 70,
   "id": "aa2e3b3a",
   "metadata": {},
   "outputs": [
    {
     "data": {
      "text/plain": [
       "datetime.datetime(2000, 1, 1, 0, 0)"
      ]
     },
     "execution_count": 70,
     "metadata": {},
     "output_type": "execute_result"
    }
   ],
   "source": [
    "datetime.strptime('Jan 01 2000','%b %d %Y')"
   ]
  },
  {
   "cell_type": "code",
   "execution_count": 72,
   "id": "8671c0d5",
   "metadata": {},
   "outputs": [
    {
     "data": {
      "text/plain": [
       "datetime.datetime(2022, 3, 29, 0, 0)"
      ]
     },
     "execution_count": 72,
     "metadata": {},
     "output_type": "execute_result"
    }
   ],
   "source": [
    "datetime.strptime('29-Mar-2022','%d-%b-%Y')"
   ]
  },
  {
   "cell_type": "code",
   "execution_count": 73,
   "id": "e465fda3",
   "metadata": {},
   "outputs": [
    {
     "data": {
      "text/plain": [
       "datetime.datetime(2022, 3, 29, 0, 0)"
      ]
     },
     "execution_count": 73,
     "metadata": {},
     "output_type": "execute_result"
    }
   ],
   "source": [
    "datetime.strptime('29-March-2022','%d-%B-%Y')"
   ]
  },
  {
   "cell_type": "code",
   "execution_count": null,
   "id": "a1905a46",
   "metadata": {},
   "outputs": [],
   "source": []
  },
  {
   "cell_type": "markdown",
   "id": "09cb5410",
   "metadata": {},
   "source": [
    "## daterange"
   ]
  },
  {
   "cell_type": "code",
   "execution_count": null,
   "id": "771ae9fa",
   "metadata": {},
   "outputs": [],
   "source": []
  },
  {
   "cell_type": "code",
   "execution_count": 74,
   "id": "c7e03ed5",
   "metadata": {},
   "outputs": [
    {
     "data": {
      "text/plain": [
       "DatetimeIndex(['2022-03-01', '2022-03-02', '2022-03-03', '2022-03-04',\n",
       "               '2022-03-05', '2022-03-06', '2022-03-07', '2022-03-08',\n",
       "               '2022-03-09', '2022-03-10', '2022-03-11', '2022-03-12',\n",
       "               '2022-03-13', '2022-03-14', '2022-03-15', '2022-03-16',\n",
       "               '2022-03-17', '2022-03-18', '2022-03-19', '2022-03-20'],\n",
       "              dtype='datetime64[ns]', freq='D')"
      ]
     },
     "execution_count": 74,
     "metadata": {},
     "output_type": "execute_result"
    }
   ],
   "source": [
    "pd.date_range('2022-03-01',periods=20)"
   ]
  },
  {
   "cell_type": "code",
   "execution_count": 76,
   "id": "bb935f29",
   "metadata": {},
   "outputs": [
    {
     "data": {
      "text/plain": [
       "DatetimeIndex(['2022-03-01 00:00:00', '2022-03-01 01:00:00',\n",
       "               '2022-03-01 02:00:00', '2022-03-01 03:00:00',\n",
       "               '2022-03-01 04:00:00', '2022-03-01 05:00:00',\n",
       "               '2022-03-01 06:00:00', '2022-03-01 07:00:00',\n",
       "               '2022-03-01 08:00:00', '2022-03-01 09:00:00',\n",
       "               '2022-03-01 10:00:00', '2022-03-01 11:00:00',\n",
       "               '2022-03-01 12:00:00', '2022-03-01 13:00:00',\n",
       "               '2022-03-01 14:00:00', '2022-03-01 15:00:00',\n",
       "               '2022-03-01 16:00:00', '2022-03-01 17:00:00',\n",
       "               '2022-03-01 18:00:00', '2022-03-01 19:00:00',\n",
       "               '2022-03-01 20:00:00', '2022-03-01 21:00:00',\n",
       "               '2022-03-01 22:00:00', '2022-03-01 23:00:00',\n",
       "               '2022-03-02 00:00:00'],\n",
       "              dtype='datetime64[ns]', freq='H')"
      ]
     },
     "execution_count": 76,
     "metadata": {},
     "output_type": "execute_result"
    }
   ],
   "source": [
    "pd.date_range('2022-03-01','2022-03-02',freq='H')"
   ]
  },
  {
   "cell_type": "code",
   "execution_count": null,
   "id": "9cf3e44f",
   "metadata": {},
   "outputs": [],
   "source": []
  },
  {
   "cell_type": "code",
   "execution_count": 77,
   "id": "ae60d381",
   "metadata": {},
   "outputs": [
    {
     "data": {
      "text/plain": [
       "DatetimeIndex(['2022-01-31', '2022-02-28', '2022-03-31', '2022-04-29',\n",
       "               '2022-05-31', '2022-06-30', '2022-07-29', '2022-08-31',\n",
       "               '2022-09-30', '2022-10-31', '2022-11-30', '2022-12-30'],\n",
       "              dtype='datetime64[ns]', freq='BM')"
      ]
     },
     "execution_count": 77,
     "metadata": {},
     "output_type": "execute_result"
    }
   ],
   "source": [
    "pd.date_range('2022-01-01','2022-12-31',freq='BM')"
   ]
  },
  {
   "cell_type": "markdown",
   "id": "665857da",
   "metadata": {},
   "source": [
    "<img src=\"https://miro.medium.com/max/1170/0*hwKQ89CuvccbP60Y.png\">"
   ]
  },
  {
   "cell_type": "code",
   "execution_count": 78,
   "id": "6d05346e",
   "metadata": {},
   "outputs": [
    {
     "data": {
      "text/plain": [
       "DatetimeIndex(['2022-01-01', '2022-02-01', '2022-03-01', '2022-04-01',\n",
       "               '2022-05-01', '2022-06-01', '2022-07-01', '2022-08-01',\n",
       "               '2022-09-01', '2022-10-01', '2022-11-01', '2022-12-01'],\n",
       "              dtype='datetime64[ns]', freq='MS')"
      ]
     },
     "execution_count": 78,
     "metadata": {},
     "output_type": "execute_result"
    }
   ],
   "source": [
    "pd.date_range('2022-01-01','2022-12-31',freq='MS')"
   ]
  },
  {
   "cell_type": "code",
   "execution_count": 79,
   "id": "47dcfd4a",
   "metadata": {},
   "outputs": [
    {
     "data": {
      "text/plain": [
       "DatetimeIndex(['2022-03-01 00:00:00', '2022-03-01 03:00:00',\n",
       "               '2022-03-01 06:00:00', '2022-03-01 09:00:00',\n",
       "               '2022-03-01 12:00:00', '2022-03-01 15:00:00',\n",
       "               '2022-03-01 18:00:00', '2022-03-01 21:00:00',\n",
       "               '2022-03-02 00:00:00'],\n",
       "              dtype='datetime64[ns]', freq='3H')"
      ]
     },
     "execution_count": 79,
     "metadata": {},
     "output_type": "execute_result"
    }
   ],
   "source": [
    "pd.date_range('2022-03-01','2022-03-02',freq='3H')"
   ]
  },
  {
   "cell_type": "code",
   "execution_count": 80,
   "id": "e6352f26",
   "metadata": {},
   "outputs": [
    {
     "data": {
      "text/plain": [
       "DatetimeIndex(['2022-03-01 00:00:00', '2022-03-01 01:15:00',\n",
       "               '2022-03-01 02:30:00', '2022-03-01 03:45:00',\n",
       "               '2022-03-01 05:00:00', '2022-03-01 06:15:00',\n",
       "               '2022-03-01 07:30:00', '2022-03-01 08:45:00',\n",
       "               '2022-03-01 10:00:00', '2022-03-01 11:15:00',\n",
       "               '2022-03-01 12:30:00', '2022-03-01 13:45:00',\n",
       "               '2022-03-01 15:00:00', '2022-03-01 16:15:00',\n",
       "               '2022-03-01 17:30:00', '2022-03-01 18:45:00',\n",
       "               '2022-03-01 20:00:00', '2022-03-01 21:15:00',\n",
       "               '2022-03-01 22:30:00', '2022-03-01 23:45:00'],\n",
       "              dtype='datetime64[ns]', freq='75T')"
      ]
     },
     "execution_count": 80,
     "metadata": {},
     "output_type": "execute_result"
    }
   ],
   "source": [
    "pd.date_range('2022-03-01','2022-03-02',freq='1H15min')"
   ]
  },
  {
   "cell_type": "code",
   "execution_count": 1,
   "id": "fcaa6af2",
   "metadata": {},
   "outputs": [],
   "source": [
    "import pandas as pd\n",
    "import numpy as np"
   ]
  },
  {
   "cell_type": "markdown",
   "id": "24c7e11d",
   "metadata": {},
   "source": [
    "## shifting"
   ]
  },
  {
   "cell_type": "code",
   "execution_count": 2,
   "id": "6904637b",
   "metadata": {},
   "outputs": [],
   "source": [
    "ts = pd.Series(np.random.randn(4),index=pd.date_range('1/1/2021',periods=4,freq='M'))"
   ]
  },
  {
   "cell_type": "code",
   "execution_count": 3,
   "id": "4340cf88",
   "metadata": {},
   "outputs": [
    {
     "data": {
      "text/plain": [
       "2021-01-31    0.039406\n",
       "2021-02-28    0.040089\n",
       "2021-03-31   -0.766421\n",
       "2021-04-30   -0.206801\n",
       "Freq: M, dtype: float64"
      ]
     },
     "execution_count": 3,
     "metadata": {},
     "output_type": "execute_result"
    }
   ],
   "source": [
    "ts"
   ]
  },
  {
   "cell_type": "code",
   "execution_count": 4,
   "id": "30698613",
   "metadata": {},
   "outputs": [
    {
     "data": {
      "text/plain": [
       "2021-01-31         NaN\n",
       "2021-02-28         NaN\n",
       "2021-03-31    0.039406\n",
       "2021-04-30    0.040089\n",
       "Freq: M, dtype: float64"
      ]
     },
     "execution_count": 4,
     "metadata": {},
     "output_type": "execute_result"
    }
   ],
   "source": [
    "ts.shift(2)"
   ]
  },
  {
   "cell_type": "code",
   "execution_count": null,
   "id": "673ccc44",
   "metadata": {},
   "outputs": [],
   "source": []
  },
  {
   "cell_type": "code",
   "execution_count": 5,
   "id": "0d86769d",
   "metadata": {},
   "outputs": [],
   "source": [
    "from datetime import datetime"
   ]
  },
  {
   "cell_type": "code",
   "execution_count": 7,
   "id": "e78d36a8",
   "metadata": {},
   "outputs": [],
   "source": [
    "from pandas.tseries.offsets import Day,MonthEnd"
   ]
  },
  {
   "cell_type": "code",
   "execution_count": 8,
   "id": "51b48ad0",
   "metadata": {},
   "outputs": [],
   "source": [
    "now = datetime(2021,8,10)"
   ]
  },
  {
   "cell_type": "code",
   "execution_count": 9,
   "id": "e627fd69",
   "metadata": {},
   "outputs": [
    {
     "data": {
      "text/plain": [
       "datetime.datetime(2021, 8, 10, 0, 0)"
      ]
     },
     "execution_count": 9,
     "metadata": {},
     "output_type": "execute_result"
    }
   ],
   "source": [
    "now"
   ]
  },
  {
   "cell_type": "code",
   "execution_count": null,
   "id": "a2de7ab2",
   "metadata": {},
   "outputs": [],
   "source": []
  },
  {
   "cell_type": "code",
   "execution_count": 12,
   "id": "1ccb55ff",
   "metadata": {},
   "outputs": [
    {
     "data": {
      "text/plain": [
       "Timestamp('2021-08-11 00:00:00')"
      ]
     },
     "execution_count": 12,
     "metadata": {},
     "output_type": "execute_result"
    }
   ],
   "source": [
    "now + Day()"
   ]
  },
  {
   "cell_type": "code",
   "execution_count": 13,
   "id": "09f69a03",
   "metadata": {},
   "outputs": [
    {
     "data": {
      "text/plain": [
       "datetime.datetime(2021, 8, 10, 0, 0)"
      ]
     },
     "execution_count": 13,
     "metadata": {},
     "output_type": "execute_result"
    }
   ],
   "source": [
    "now"
   ]
  },
  {
   "cell_type": "code",
   "execution_count": 14,
   "id": "5c206d1e",
   "metadata": {},
   "outputs": [
    {
     "data": {
      "text/plain": [
       "Timestamp('2021-08-13 00:00:00')"
      ]
     },
     "execution_count": 14,
     "metadata": {},
     "output_type": "execute_result"
    }
   ],
   "source": [
    "now+3*Day()"
   ]
  },
  {
   "cell_type": "code",
   "execution_count": 18,
   "id": "cea807d1",
   "metadata": {},
   "outputs": [
    {
     "data": {
      "text/plain": [
       "datetime.datetime(2021, 8, 10, 0, 0)"
      ]
     },
     "execution_count": 18,
     "metadata": {},
     "output_type": "execute_result"
    }
   ],
   "source": [
    "now"
   ]
  },
  {
   "cell_type": "code",
   "execution_count": 16,
   "id": "f826f7d0",
   "metadata": {},
   "outputs": [
    {
     "data": {
      "text/plain": [
       "Timestamp('2021-10-31 00:00:00')"
      ]
     },
     "execution_count": 16,
     "metadata": {},
     "output_type": "execute_result"
    }
   ],
   "source": [
    "now+MonthEnd(3)"
   ]
  },
  {
   "cell_type": "code",
   "execution_count": 17,
   "id": "067c6078",
   "metadata": {},
   "outputs": [],
   "source": [
    "from pandas.tseries.offsets import  SemiMonthBegin,SemiMonthEnd"
   ]
  },
  {
   "cell_type": "code",
   "execution_count": 19,
   "id": "17dc93c7",
   "metadata": {},
   "outputs": [
    {
     "data": {
      "text/plain": [
       "Timestamp('2021-08-15 00:00:00')"
      ]
     },
     "execution_count": 19,
     "metadata": {},
     "output_type": "execute_result"
    }
   ],
   "source": [
    "now+SemiMonthBegin()"
   ]
  },
  {
   "cell_type": "code",
   "execution_count": 20,
   "id": "9411607b",
   "metadata": {},
   "outputs": [
    {
     "data": {
      "text/plain": [
       "Timestamp('2021-08-15 00:00:00')"
      ]
     },
     "execution_count": 20,
     "metadata": {},
     "output_type": "execute_result"
    }
   ],
   "source": [
    "now+SemiMonthEnd()"
   ]
  },
  {
   "cell_type": "code",
   "execution_count": null,
   "id": "c64e28b5",
   "metadata": {},
   "outputs": [],
   "source": []
  },
  {
   "cell_type": "code",
   "execution_count": 21,
   "id": "5e9a3fb5",
   "metadata": {},
   "outputs": [],
   "source": [
    "frame = pd.DataFrame(np.random.randn(24,4),index=pd.period_range('1-2020','12-2021',freq='M'),\n",
    "                    columns=['Mumbai','Pune','Chennai','Hyderabad'])"
   ]
  },
  {
   "cell_type": "code",
   "execution_count": 22,
   "id": "27fa2af3",
   "metadata": {},
   "outputs": [
    {
     "data": {
      "text/html": [
       "<div>\n",
       "<style scoped>\n",
       "    .dataframe tbody tr th:only-of-type {\n",
       "        vertical-align: middle;\n",
       "    }\n",
       "\n",
       "    .dataframe tbody tr th {\n",
       "        vertical-align: top;\n",
       "    }\n",
       "\n",
       "    .dataframe thead th {\n",
       "        text-align: right;\n",
       "    }\n",
       "</style>\n",
       "<table border=\"1\" class=\"dataframe\">\n",
       "  <thead>\n",
       "    <tr style=\"text-align: right;\">\n",
       "      <th></th>\n",
       "      <th>Mumbai</th>\n",
       "      <th>Pune</th>\n",
       "      <th>Chennai</th>\n",
       "      <th>Hyderabad</th>\n",
       "    </tr>\n",
       "  </thead>\n",
       "  <tbody>\n",
       "    <tr>\n",
       "      <th>2020-01</th>\n",
       "      <td>1.261546</td>\n",
       "      <td>-0.194674</td>\n",
       "      <td>0.217084</td>\n",
       "      <td>-1.372980</td>\n",
       "    </tr>\n",
       "    <tr>\n",
       "      <th>2020-02</th>\n",
       "      <td>-1.357245</td>\n",
       "      <td>0.300012</td>\n",
       "      <td>-0.832968</td>\n",
       "      <td>1.603516</td>\n",
       "    </tr>\n",
       "    <tr>\n",
       "      <th>2020-03</th>\n",
       "      <td>0.096765</td>\n",
       "      <td>0.338486</td>\n",
       "      <td>-0.353949</td>\n",
       "      <td>-0.153870</td>\n",
       "    </tr>\n",
       "    <tr>\n",
       "      <th>2020-04</th>\n",
       "      <td>-0.226719</td>\n",
       "      <td>2.497979</td>\n",
       "      <td>-2.093346</td>\n",
       "      <td>-1.551380</td>\n",
       "    </tr>\n",
       "    <tr>\n",
       "      <th>2020-05</th>\n",
       "      <td>0.480463</td>\n",
       "      <td>1.426175</td>\n",
       "      <td>0.431114</td>\n",
       "      <td>-0.349091</td>\n",
       "    </tr>\n",
       "    <tr>\n",
       "      <th>2020-06</th>\n",
       "      <td>-1.033195</td>\n",
       "      <td>0.411665</td>\n",
       "      <td>-0.398833</td>\n",
       "      <td>1.211941</td>\n",
       "    </tr>\n",
       "    <tr>\n",
       "      <th>2020-07</th>\n",
       "      <td>1.209070</td>\n",
       "      <td>0.785128</td>\n",
       "      <td>1.568433</td>\n",
       "      <td>-0.692865</td>\n",
       "    </tr>\n",
       "    <tr>\n",
       "      <th>2020-08</th>\n",
       "      <td>1.439380</td>\n",
       "      <td>1.001376</td>\n",
       "      <td>-0.050014</td>\n",
       "      <td>-0.066352</td>\n",
       "    </tr>\n",
       "    <tr>\n",
       "      <th>2020-09</th>\n",
       "      <td>-0.809768</td>\n",
       "      <td>2.080541</td>\n",
       "      <td>-0.357132</td>\n",
       "      <td>0.270384</td>\n",
       "    </tr>\n",
       "    <tr>\n",
       "      <th>2020-10</th>\n",
       "      <td>0.120031</td>\n",
       "      <td>-0.800640</td>\n",
       "      <td>2.246150</td>\n",
       "      <td>2.745256</td>\n",
       "    </tr>\n",
       "    <tr>\n",
       "      <th>2020-11</th>\n",
       "      <td>-0.740672</td>\n",
       "      <td>0.364979</td>\n",
       "      <td>-0.130451</td>\n",
       "      <td>-0.309131</td>\n",
       "    </tr>\n",
       "    <tr>\n",
       "      <th>2020-12</th>\n",
       "      <td>1.127646</td>\n",
       "      <td>-0.147062</td>\n",
       "      <td>-2.102227</td>\n",
       "      <td>1.964422</td>\n",
       "    </tr>\n",
       "    <tr>\n",
       "      <th>2021-01</th>\n",
       "      <td>0.308481</td>\n",
       "      <td>-1.931014</td>\n",
       "      <td>0.636534</td>\n",
       "      <td>-0.318744</td>\n",
       "    </tr>\n",
       "    <tr>\n",
       "      <th>2021-02</th>\n",
       "      <td>-0.057882</td>\n",
       "      <td>-1.211779</td>\n",
       "      <td>0.179766</td>\n",
       "      <td>1.342188</td>\n",
       "    </tr>\n",
       "    <tr>\n",
       "      <th>2021-03</th>\n",
       "      <td>0.538214</td>\n",
       "      <td>1.590773</td>\n",
       "      <td>-0.364250</td>\n",
       "      <td>-1.719252</td>\n",
       "    </tr>\n",
       "    <tr>\n",
       "      <th>2021-04</th>\n",
       "      <td>0.956407</td>\n",
       "      <td>-0.138421</td>\n",
       "      <td>0.172081</td>\n",
       "      <td>-0.084154</td>\n",
       "    </tr>\n",
       "    <tr>\n",
       "      <th>2021-05</th>\n",
       "      <td>-1.237576</td>\n",
       "      <td>0.975007</td>\n",
       "      <td>-1.592497</td>\n",
       "      <td>1.958116</td>\n",
       "    </tr>\n",
       "    <tr>\n",
       "      <th>2021-06</th>\n",
       "      <td>-0.990484</td>\n",
       "      <td>-1.681633</td>\n",
       "      <td>0.067472</td>\n",
       "      <td>-0.974784</td>\n",
       "    </tr>\n",
       "    <tr>\n",
       "      <th>2021-07</th>\n",
       "      <td>-0.775049</td>\n",
       "      <td>1.317996</td>\n",
       "      <td>-0.532362</td>\n",
       "      <td>-1.519507</td>\n",
       "    </tr>\n",
       "    <tr>\n",
       "      <th>2021-08</th>\n",
       "      <td>0.497736</td>\n",
       "      <td>0.403120</td>\n",
       "      <td>0.250085</td>\n",
       "      <td>0.125377</td>\n",
       "    </tr>\n",
       "    <tr>\n",
       "      <th>2021-09</th>\n",
       "      <td>1.549249</td>\n",
       "      <td>-0.764503</td>\n",
       "      <td>1.114330</td>\n",
       "      <td>1.028993</td>\n",
       "    </tr>\n",
       "    <tr>\n",
       "      <th>2021-10</th>\n",
       "      <td>-0.214031</td>\n",
       "      <td>1.516106</td>\n",
       "      <td>1.799127</td>\n",
       "      <td>-0.010231</td>\n",
       "    </tr>\n",
       "    <tr>\n",
       "      <th>2021-11</th>\n",
       "      <td>0.810266</td>\n",
       "      <td>0.182345</td>\n",
       "      <td>1.972133</td>\n",
       "      <td>-1.407254</td>\n",
       "    </tr>\n",
       "    <tr>\n",
       "      <th>2021-12</th>\n",
       "      <td>0.772657</td>\n",
       "      <td>1.019199</td>\n",
       "      <td>0.371485</td>\n",
       "      <td>-0.306413</td>\n",
       "    </tr>\n",
       "  </tbody>\n",
       "</table>\n",
       "</div>"
      ],
      "text/plain": [
       "           Mumbai      Pune   Chennai  Hyderabad\n",
       "2020-01  1.261546 -0.194674  0.217084  -1.372980\n",
       "2020-02 -1.357245  0.300012 -0.832968   1.603516\n",
       "2020-03  0.096765  0.338486 -0.353949  -0.153870\n",
       "2020-04 -0.226719  2.497979 -2.093346  -1.551380\n",
       "2020-05  0.480463  1.426175  0.431114  -0.349091\n",
       "2020-06 -1.033195  0.411665 -0.398833   1.211941\n",
       "2020-07  1.209070  0.785128  1.568433  -0.692865\n",
       "2020-08  1.439380  1.001376 -0.050014  -0.066352\n",
       "2020-09 -0.809768  2.080541 -0.357132   0.270384\n",
       "2020-10  0.120031 -0.800640  2.246150   2.745256\n",
       "2020-11 -0.740672  0.364979 -0.130451  -0.309131\n",
       "2020-12  1.127646 -0.147062 -2.102227   1.964422\n",
       "2021-01  0.308481 -1.931014  0.636534  -0.318744\n",
       "2021-02 -0.057882 -1.211779  0.179766   1.342188\n",
       "2021-03  0.538214  1.590773 -0.364250  -1.719252\n",
       "2021-04  0.956407 -0.138421  0.172081  -0.084154\n",
       "2021-05 -1.237576  0.975007 -1.592497   1.958116\n",
       "2021-06 -0.990484 -1.681633  0.067472  -0.974784\n",
       "2021-07 -0.775049  1.317996 -0.532362  -1.519507\n",
       "2021-08  0.497736  0.403120  0.250085   0.125377\n",
       "2021-09  1.549249 -0.764503  1.114330   1.028993\n",
       "2021-10 -0.214031  1.516106  1.799127  -0.010231\n",
       "2021-11  0.810266  0.182345  1.972133  -1.407254\n",
       "2021-12  0.772657  1.019199  0.371485  -0.306413"
      ]
     },
     "execution_count": 22,
     "metadata": {},
     "output_type": "execute_result"
    }
   ],
   "source": [
    "frame"
   ]
  },
  {
   "cell_type": "code",
   "execution_count": 23,
   "id": "614dd5e6",
   "metadata": {},
   "outputs": [],
   "source": [
    "sales = frame.resample('A-DEC')"
   ]
  },
  {
   "cell_type": "code",
   "execution_count": 25,
   "id": "329c9bb5",
   "metadata": {},
   "outputs": [
    {
     "data": {
      "text/html": [
       "<div>\n",
       "<style scoped>\n",
       "    .dataframe tbody tr th:only-of-type {\n",
       "        vertical-align: middle;\n",
       "    }\n",
       "\n",
       "    .dataframe tbody tr th {\n",
       "        vertical-align: top;\n",
       "    }\n",
       "\n",
       "    .dataframe thead th {\n",
       "        text-align: right;\n",
       "    }\n",
       "</style>\n",
       "<table border=\"1\" class=\"dataframe\">\n",
       "  <thead>\n",
       "    <tr style=\"text-align: right;\">\n",
       "      <th></th>\n",
       "      <th>Mumbai</th>\n",
       "      <th>Pune</th>\n",
       "      <th>Chennai</th>\n",
       "      <th>Hyderabad</th>\n",
       "    </tr>\n",
       "  </thead>\n",
       "  <tbody>\n",
       "    <tr>\n",
       "      <th>2020</th>\n",
       "      <td>1.567302</td>\n",
       "      <td>8.063964</td>\n",
       "      <td>-1.856139</td>\n",
       "      <td>3.299852</td>\n",
       "    </tr>\n",
       "    <tr>\n",
       "      <th>2021</th>\n",
       "      <td>2.157988</td>\n",
       "      <td>1.277196</td>\n",
       "      <td>4.073905</td>\n",
       "      <td>-1.885664</td>\n",
       "    </tr>\n",
       "  </tbody>\n",
       "</table>\n",
       "</div>"
      ],
      "text/plain": [
       "        Mumbai      Pune   Chennai  Hyderabad\n",
       "2020  1.567302  8.063964 -1.856139   3.299852\n",
       "2021  2.157988  1.277196  4.073905  -1.885664"
      ]
     },
     "execution_count": 25,
     "metadata": {},
     "output_type": "execute_result"
    }
   ],
   "source": [
    "sales.sum()"
   ]
  },
  {
   "cell_type": "code",
   "execution_count": 26,
   "id": "ed2002de",
   "metadata": {},
   "outputs": [
    {
     "data": {
      "text/html": [
       "<div>\n",
       "<style scoped>\n",
       "    .dataframe tbody tr th:only-of-type {\n",
       "        vertical-align: middle;\n",
       "    }\n",
       "\n",
       "    .dataframe tbody tr th {\n",
       "        vertical-align: top;\n",
       "    }\n",
       "\n",
       "    .dataframe thead th {\n",
       "        text-align: right;\n",
       "    }\n",
       "</style>\n",
       "<table border=\"1\" class=\"dataframe\">\n",
       "  <thead>\n",
       "    <tr style=\"text-align: right;\">\n",
       "      <th></th>\n",
       "      <th>Mumbai</th>\n",
       "      <th>Pune</th>\n",
       "      <th>Chennai</th>\n",
       "      <th>Hyderabad</th>\n",
       "    </tr>\n",
       "  </thead>\n",
       "  <tbody>\n",
       "    <tr>\n",
       "      <th>2020</th>\n",
       "      <td>-1.357245</td>\n",
       "      <td>-0.800640</td>\n",
       "      <td>-2.102227</td>\n",
       "      <td>-1.551380</td>\n",
       "    </tr>\n",
       "    <tr>\n",
       "      <th>2021</th>\n",
       "      <td>-1.237576</td>\n",
       "      <td>-1.931014</td>\n",
       "      <td>-1.592497</td>\n",
       "      <td>-1.719252</td>\n",
       "    </tr>\n",
       "  </tbody>\n",
       "</table>\n",
       "</div>"
      ],
      "text/plain": [
       "        Mumbai      Pune   Chennai  Hyderabad\n",
       "2020 -1.357245 -0.800640 -2.102227  -1.551380\n",
       "2021 -1.237576 -1.931014 -1.592497  -1.719252"
      ]
     },
     "execution_count": 26,
     "metadata": {},
     "output_type": "execute_result"
    }
   ],
   "source": [
    "sales.min()"
   ]
  },
  {
   "cell_type": "code",
   "execution_count": 27,
   "id": "27e38041",
   "metadata": {},
   "outputs": [
    {
     "data": {
      "text/html": [
       "<div>\n",
       "<style scoped>\n",
       "    .dataframe tbody tr th:only-of-type {\n",
       "        vertical-align: middle;\n",
       "    }\n",
       "\n",
       "    .dataframe tbody tr th {\n",
       "        vertical-align: top;\n",
       "    }\n",
       "\n",
       "    .dataframe thead th {\n",
       "        text-align: right;\n",
       "    }\n",
       "</style>\n",
       "<table border=\"1\" class=\"dataframe\">\n",
       "  <thead>\n",
       "    <tr style=\"text-align: right;\">\n",
       "      <th></th>\n",
       "      <th>Mumbai</th>\n",
       "      <th>Pune</th>\n",
       "      <th>Chennai</th>\n",
       "      <th>Hyderabad</th>\n",
       "    </tr>\n",
       "  </thead>\n",
       "  <tbody>\n",
       "    <tr>\n",
       "      <th>2020</th>\n",
       "      <td>0.130608</td>\n",
       "      <td>0.671997</td>\n",
       "      <td>-0.154678</td>\n",
       "      <td>0.274988</td>\n",
       "    </tr>\n",
       "    <tr>\n",
       "      <th>2021</th>\n",
       "      <td>0.179832</td>\n",
       "      <td>0.106433</td>\n",
       "      <td>0.339492</td>\n",
       "      <td>-0.157139</td>\n",
       "    </tr>\n",
       "  </tbody>\n",
       "</table>\n",
       "</div>"
      ],
      "text/plain": [
       "        Mumbai      Pune   Chennai  Hyderabad\n",
       "2020  0.130608  0.671997 -0.154678   0.274988\n",
       "2021  0.179832  0.106433  0.339492  -0.157139"
      ]
     },
     "execution_count": 27,
     "metadata": {},
     "output_type": "execute_result"
    }
   ],
   "source": [
    "sales.mean()"
   ]
  },
  {
   "cell_type": "code",
   "execution_count": 28,
   "id": "9822a52e",
   "metadata": {},
   "outputs": [
    {
     "data": {
      "text/html": [
       "<div>\n",
       "<style scoped>\n",
       "    .dataframe tbody tr th:only-of-type {\n",
       "        vertical-align: middle;\n",
       "    }\n",
       "\n",
       "    .dataframe tbody tr th {\n",
       "        vertical-align: top;\n",
       "    }\n",
       "\n",
       "    .dataframe thead th {\n",
       "        text-align: right;\n",
       "    }\n",
       "</style>\n",
       "<table border=\"1\" class=\"dataframe\">\n",
       "  <thead>\n",
       "    <tr style=\"text-align: right;\">\n",
       "      <th></th>\n",
       "      <th>Mumbai</th>\n",
       "      <th>Pune</th>\n",
       "      <th>Chennai</th>\n",
       "      <th>Hyderabad</th>\n",
       "    </tr>\n",
       "  </thead>\n",
       "  <tbody>\n",
       "    <tr>\n",
       "      <th>2020</th>\n",
       "      <td>12</td>\n",
       "      <td>12</td>\n",
       "      <td>12</td>\n",
       "      <td>12</td>\n",
       "    </tr>\n",
       "    <tr>\n",
       "      <th>2021</th>\n",
       "      <td>12</td>\n",
       "      <td>12</td>\n",
       "      <td>12</td>\n",
       "      <td>12</td>\n",
       "    </tr>\n",
       "  </tbody>\n",
       "</table>\n",
       "</div>"
      ],
      "text/plain": [
       "      Mumbai  Pune  Chennai  Hyderabad\n",
       "2020      12    12       12         12\n",
       "2021      12    12       12         12"
      ]
     },
     "execution_count": 28,
     "metadata": {},
     "output_type": "execute_result"
    }
   ],
   "source": [
    "sales.count()"
   ]
  },
  {
   "cell_type": "code",
   "execution_count": 31,
   "id": "5971fe57",
   "metadata": {},
   "outputs": [],
   "source": [
    "quater = frame.resample('Q-DEC')"
   ]
  },
  {
   "cell_type": "code",
   "execution_count": 32,
   "id": "d1332ec2",
   "metadata": {},
   "outputs": [
    {
     "data": {
      "text/html": [
       "<div>\n",
       "<style scoped>\n",
       "    .dataframe tbody tr th:only-of-type {\n",
       "        vertical-align: middle;\n",
       "    }\n",
       "\n",
       "    .dataframe tbody tr th {\n",
       "        vertical-align: top;\n",
       "    }\n",
       "\n",
       "    .dataframe thead th {\n",
       "        text-align: right;\n",
       "    }\n",
       "</style>\n",
       "<table border=\"1\" class=\"dataframe\">\n",
       "  <thead>\n",
       "    <tr style=\"text-align: right;\">\n",
       "      <th></th>\n",
       "      <th>Mumbai</th>\n",
       "      <th>Pune</th>\n",
       "      <th>Chennai</th>\n",
       "      <th>Hyderabad</th>\n",
       "    </tr>\n",
       "  </thead>\n",
       "  <tbody>\n",
       "    <tr>\n",
       "      <th>2020Q1</th>\n",
       "      <td>-1.357245</td>\n",
       "      <td>-0.194674</td>\n",
       "      <td>-0.832968</td>\n",
       "      <td>-1.372980</td>\n",
       "    </tr>\n",
       "    <tr>\n",
       "      <th>2020Q2</th>\n",
       "      <td>-1.033195</td>\n",
       "      <td>0.411665</td>\n",
       "      <td>-2.093346</td>\n",
       "      <td>-1.551380</td>\n",
       "    </tr>\n",
       "    <tr>\n",
       "      <th>2020Q3</th>\n",
       "      <td>-0.809768</td>\n",
       "      <td>0.785128</td>\n",
       "      <td>-0.357132</td>\n",
       "      <td>-0.692865</td>\n",
       "    </tr>\n",
       "    <tr>\n",
       "      <th>2020Q4</th>\n",
       "      <td>-0.740672</td>\n",
       "      <td>-0.800640</td>\n",
       "      <td>-2.102227</td>\n",
       "      <td>-0.309131</td>\n",
       "    </tr>\n",
       "    <tr>\n",
       "      <th>2021Q1</th>\n",
       "      <td>-0.057882</td>\n",
       "      <td>-1.931014</td>\n",
       "      <td>-0.364250</td>\n",
       "      <td>-1.719252</td>\n",
       "    </tr>\n",
       "    <tr>\n",
       "      <th>2021Q2</th>\n",
       "      <td>-1.237576</td>\n",
       "      <td>-1.681633</td>\n",
       "      <td>-1.592497</td>\n",
       "      <td>-0.974784</td>\n",
       "    </tr>\n",
       "    <tr>\n",
       "      <th>2021Q3</th>\n",
       "      <td>-0.775049</td>\n",
       "      <td>-0.764503</td>\n",
       "      <td>-0.532362</td>\n",
       "      <td>-1.519507</td>\n",
       "    </tr>\n",
       "    <tr>\n",
       "      <th>2021Q4</th>\n",
       "      <td>-0.214031</td>\n",
       "      <td>0.182345</td>\n",
       "      <td>0.371485</td>\n",
       "      <td>-1.407254</td>\n",
       "    </tr>\n",
       "  </tbody>\n",
       "</table>\n",
       "</div>"
      ],
      "text/plain": [
       "          Mumbai      Pune   Chennai  Hyderabad\n",
       "2020Q1 -1.357245 -0.194674 -0.832968  -1.372980\n",
       "2020Q2 -1.033195  0.411665 -2.093346  -1.551380\n",
       "2020Q3 -0.809768  0.785128 -0.357132  -0.692865\n",
       "2020Q4 -0.740672 -0.800640 -2.102227  -0.309131\n",
       "2021Q1 -0.057882 -1.931014 -0.364250  -1.719252\n",
       "2021Q2 -1.237576 -1.681633 -1.592497  -0.974784\n",
       "2021Q3 -0.775049 -0.764503 -0.532362  -1.519507\n",
       "2021Q4 -0.214031  0.182345  0.371485  -1.407254"
      ]
     },
     "execution_count": 32,
     "metadata": {},
     "output_type": "execute_result"
    }
   ],
   "source": [
    "quater.min()"
   ]
  },
  {
   "cell_type": "code",
   "execution_count": 33,
   "id": "4744eff5",
   "metadata": {},
   "outputs": [
    {
     "data": {
      "text/html": [
       "<div>\n",
       "<style scoped>\n",
       "    .dataframe tbody tr th:only-of-type {\n",
       "        vertical-align: middle;\n",
       "    }\n",
       "\n",
       "    .dataframe tbody tr th {\n",
       "        vertical-align: top;\n",
       "    }\n",
       "\n",
       "    .dataframe thead th {\n",
       "        text-align: right;\n",
       "    }\n",
       "</style>\n",
       "<table border=\"1\" class=\"dataframe\">\n",
       "  <thead>\n",
       "    <tr style=\"text-align: right;\">\n",
       "      <th></th>\n",
       "      <th>Mumbai</th>\n",
       "      <th>Pune</th>\n",
       "      <th>Chennai</th>\n",
       "      <th>Hyderabad</th>\n",
       "    </tr>\n",
       "  </thead>\n",
       "  <tbody>\n",
       "    <tr>\n",
       "      <th>2020Q1</th>\n",
       "      <td>0.001066</td>\n",
       "      <td>0.443824</td>\n",
       "      <td>-0.969833</td>\n",
       "      <td>0.076666</td>\n",
       "    </tr>\n",
       "    <tr>\n",
       "      <th>2020Q2</th>\n",
       "      <td>-0.779451</td>\n",
       "      <td>4.335819</td>\n",
       "      <td>-2.061065</td>\n",
       "      <td>-0.688529</td>\n",
       "    </tr>\n",
       "    <tr>\n",
       "      <th>2020Q3</th>\n",
       "      <td>1.838681</td>\n",
       "      <td>3.867044</td>\n",
       "      <td>1.161286</td>\n",
       "      <td>-0.488832</td>\n",
       "    </tr>\n",
       "    <tr>\n",
       "      <th>2020Q4</th>\n",
       "      <td>0.507005</td>\n",
       "      <td>-0.582723</td>\n",
       "      <td>0.013473</td>\n",
       "      <td>4.400547</td>\n",
       "    </tr>\n",
       "    <tr>\n",
       "      <th>2021Q1</th>\n",
       "      <td>0.788813</td>\n",
       "      <td>-1.552020</td>\n",
       "      <td>0.452050</td>\n",
       "      <td>-0.695808</td>\n",
       "    </tr>\n",
       "    <tr>\n",
       "      <th>2021Q2</th>\n",
       "      <td>-1.271653</td>\n",
       "      <td>-0.845047</td>\n",
       "      <td>-1.352943</td>\n",
       "      <td>0.899178</td>\n",
       "    </tr>\n",
       "    <tr>\n",
       "      <th>2021Q3</th>\n",
       "      <td>1.271936</td>\n",
       "      <td>0.956613</td>\n",
       "      <td>0.832053</td>\n",
       "      <td>-0.365137</td>\n",
       "    </tr>\n",
       "    <tr>\n",
       "      <th>2021Q4</th>\n",
       "      <td>1.368893</td>\n",
       "      <td>2.717650</td>\n",
       "      <td>4.142746</td>\n",
       "      <td>-1.723898</td>\n",
       "    </tr>\n",
       "  </tbody>\n",
       "</table>\n",
       "</div>"
      ],
      "text/plain": [
       "          Mumbai      Pune   Chennai  Hyderabad\n",
       "2020Q1  0.001066  0.443824 -0.969833   0.076666\n",
       "2020Q2 -0.779451  4.335819 -2.061065  -0.688529\n",
       "2020Q3  1.838681  3.867044  1.161286  -0.488832\n",
       "2020Q4  0.507005 -0.582723  0.013473   4.400547\n",
       "2021Q1  0.788813 -1.552020  0.452050  -0.695808\n",
       "2021Q2 -1.271653 -0.845047 -1.352943   0.899178\n",
       "2021Q3  1.271936  0.956613  0.832053  -0.365137\n",
       "2021Q4  1.368893  2.717650  4.142746  -1.723898"
      ]
     },
     "execution_count": 33,
     "metadata": {},
     "output_type": "execute_result"
    }
   ],
   "source": [
    "quater.sum()"
   ]
  },
  {
   "cell_type": "code",
   "execution_count": null,
   "id": "b9213fa5",
   "metadata": {},
   "outputs": [],
   "source": []
  },
  {
   "cell_type": "code",
   "execution_count": null,
   "id": "ec0ff773",
   "metadata": {},
   "outputs": [],
   "source": []
  },
  {
   "cell_type": "markdown",
   "id": "24d5065a",
   "metadata": {},
   "source": [
    "### finding null values"
   ]
  },
  {
   "cell_type": "code",
   "execution_count": null,
   "id": "2e5a9418",
   "metadata": {},
   "outputs": [],
   "source": []
  },
  {
   "cell_type": "code",
   "execution_count": 34,
   "id": "cab24ba9",
   "metadata": {},
   "outputs": [],
   "source": [
    "df = pd.DataFrame({\n",
    "    'A':[10,20,None,30],\n",
    "    'B':[None,2,4,6],\n",
    "    'C':[4,12,16,5],\n",
    "    'D':[5,4,7,None]\n",
    "})"
   ]
  },
  {
   "cell_type": "code",
   "execution_count": 35,
   "id": "8502c8cc",
   "metadata": {},
   "outputs": [
    {
     "data": {
      "text/html": [
       "<div>\n",
       "<style scoped>\n",
       "    .dataframe tbody tr th:only-of-type {\n",
       "        vertical-align: middle;\n",
       "    }\n",
       "\n",
       "    .dataframe tbody tr th {\n",
       "        vertical-align: top;\n",
       "    }\n",
       "\n",
       "    .dataframe thead th {\n",
       "        text-align: right;\n",
       "    }\n",
       "</style>\n",
       "<table border=\"1\" class=\"dataframe\">\n",
       "  <thead>\n",
       "    <tr style=\"text-align: right;\">\n",
       "      <th></th>\n",
       "      <th>A</th>\n",
       "      <th>B</th>\n",
       "      <th>C</th>\n",
       "      <th>D</th>\n",
       "    </tr>\n",
       "  </thead>\n",
       "  <tbody>\n",
       "    <tr>\n",
       "      <th>0</th>\n",
       "      <td>10.0</td>\n",
       "      <td>NaN</td>\n",
       "      <td>4</td>\n",
       "      <td>5.0</td>\n",
       "    </tr>\n",
       "    <tr>\n",
       "      <th>1</th>\n",
       "      <td>20.0</td>\n",
       "      <td>2.0</td>\n",
       "      <td>12</td>\n",
       "      <td>4.0</td>\n",
       "    </tr>\n",
       "    <tr>\n",
       "      <th>2</th>\n",
       "      <td>NaN</td>\n",
       "      <td>4.0</td>\n",
       "      <td>16</td>\n",
       "      <td>7.0</td>\n",
       "    </tr>\n",
       "    <tr>\n",
       "      <th>3</th>\n",
       "      <td>30.0</td>\n",
       "      <td>6.0</td>\n",
       "      <td>5</td>\n",
       "      <td>NaN</td>\n",
       "    </tr>\n",
       "  </tbody>\n",
       "</table>\n",
       "</div>"
      ],
      "text/plain": [
       "      A    B   C    D\n",
       "0  10.0  NaN   4  5.0\n",
       "1  20.0  2.0  12  4.0\n",
       "2   NaN  4.0  16  7.0\n",
       "3  30.0  6.0   5  NaN"
      ]
     },
     "execution_count": 35,
     "metadata": {},
     "output_type": "execute_result"
    }
   ],
   "source": [
    "df"
   ]
  },
  {
   "cell_type": "code",
   "execution_count": 36,
   "id": "89b08845",
   "metadata": {},
   "outputs": [
    {
     "data": {
      "text/html": [
       "<div>\n",
       "<style scoped>\n",
       "    .dataframe tbody tr th:only-of-type {\n",
       "        vertical-align: middle;\n",
       "    }\n",
       "\n",
       "    .dataframe tbody tr th {\n",
       "        vertical-align: top;\n",
       "    }\n",
       "\n",
       "    .dataframe thead th {\n",
       "        text-align: right;\n",
       "    }\n",
       "</style>\n",
       "<table border=\"1\" class=\"dataframe\">\n",
       "  <thead>\n",
       "    <tr style=\"text-align: right;\">\n",
       "      <th></th>\n",
       "      <th>A</th>\n",
       "      <th>B</th>\n",
       "      <th>C</th>\n",
       "      <th>D</th>\n",
       "    </tr>\n",
       "  </thead>\n",
       "  <tbody>\n",
       "    <tr>\n",
       "      <th>0</th>\n",
       "      <td>10.0</td>\n",
       "      <td>NaN</td>\n",
       "      <td>4</td>\n",
       "      <td>5.0</td>\n",
       "    </tr>\n",
       "    <tr>\n",
       "      <th>1</th>\n",
       "      <td>20.0</td>\n",
       "      <td>2.0</td>\n",
       "      <td>12</td>\n",
       "      <td>4.0</td>\n",
       "    </tr>\n",
       "    <tr>\n",
       "      <th>2</th>\n",
       "      <td>20.0</td>\n",
       "      <td>4.0</td>\n",
       "      <td>16</td>\n",
       "      <td>7.0</td>\n",
       "    </tr>\n",
       "    <tr>\n",
       "      <th>3</th>\n",
       "      <td>30.0</td>\n",
       "      <td>6.0</td>\n",
       "      <td>5</td>\n",
       "      <td>7.0</td>\n",
       "    </tr>\n",
       "  </tbody>\n",
       "</table>\n",
       "</div>"
      ],
      "text/plain": [
       "      A    B   C    D\n",
       "0  10.0  NaN   4  5.0\n",
       "1  20.0  2.0  12  4.0\n",
       "2  20.0  4.0  16  7.0\n",
       "3  30.0  6.0   5  7.0"
      ]
     },
     "execution_count": 36,
     "metadata": {},
     "output_type": "execute_result"
    }
   ],
   "source": [
    "df.ffill()"
   ]
  },
  {
   "cell_type": "code",
   "execution_count": 37,
   "id": "0a9fe459",
   "metadata": {},
   "outputs": [
    {
     "data": {
      "text/html": [
       "<div>\n",
       "<style scoped>\n",
       "    .dataframe tbody tr th:only-of-type {\n",
       "        vertical-align: middle;\n",
       "    }\n",
       "\n",
       "    .dataframe tbody tr th {\n",
       "        vertical-align: top;\n",
       "    }\n",
       "\n",
       "    .dataframe thead th {\n",
       "        text-align: right;\n",
       "    }\n",
       "</style>\n",
       "<table border=\"1\" class=\"dataframe\">\n",
       "  <thead>\n",
       "    <tr style=\"text-align: right;\">\n",
       "      <th></th>\n",
       "      <th>A</th>\n",
       "      <th>B</th>\n",
       "      <th>C</th>\n",
       "      <th>D</th>\n",
       "    </tr>\n",
       "  </thead>\n",
       "  <tbody>\n",
       "    <tr>\n",
       "      <th>0</th>\n",
       "      <td>10.0</td>\n",
       "      <td>10.0</td>\n",
       "      <td>4.0</td>\n",
       "      <td>5.0</td>\n",
       "    </tr>\n",
       "    <tr>\n",
       "      <th>1</th>\n",
       "      <td>20.0</td>\n",
       "      <td>2.0</td>\n",
       "      <td>12.0</td>\n",
       "      <td>4.0</td>\n",
       "    </tr>\n",
       "    <tr>\n",
       "      <th>2</th>\n",
       "      <td>NaN</td>\n",
       "      <td>4.0</td>\n",
       "      <td>16.0</td>\n",
       "      <td>7.0</td>\n",
       "    </tr>\n",
       "    <tr>\n",
       "      <th>3</th>\n",
       "      <td>30.0</td>\n",
       "      <td>6.0</td>\n",
       "      <td>5.0</td>\n",
       "      <td>5.0</td>\n",
       "    </tr>\n",
       "  </tbody>\n",
       "</table>\n",
       "</div>"
      ],
      "text/plain": [
       "      A     B     C    D\n",
       "0  10.0  10.0   4.0  5.0\n",
       "1  20.0   2.0  12.0  4.0\n",
       "2   NaN   4.0  16.0  7.0\n",
       "3  30.0   6.0   5.0  5.0"
      ]
     },
     "execution_count": 37,
     "metadata": {},
     "output_type": "execute_result"
    }
   ],
   "source": [
    "df.ffill(axis=1)"
   ]
  },
  {
   "cell_type": "code",
   "execution_count": 39,
   "id": "c8e271e4",
   "metadata": {},
   "outputs": [
    {
     "data": {
      "text/html": [
       "<div>\n",
       "<style scoped>\n",
       "    .dataframe tbody tr th:only-of-type {\n",
       "        vertical-align: middle;\n",
       "    }\n",
       "\n",
       "    .dataframe tbody tr th {\n",
       "        vertical-align: top;\n",
       "    }\n",
       "\n",
       "    .dataframe thead th {\n",
       "        text-align: right;\n",
       "    }\n",
       "</style>\n",
       "<table border=\"1\" class=\"dataframe\">\n",
       "  <thead>\n",
       "    <tr style=\"text-align: right;\">\n",
       "      <th></th>\n",
       "      <th>A</th>\n",
       "      <th>B</th>\n",
       "      <th>C</th>\n",
       "      <th>D</th>\n",
       "    </tr>\n",
       "  </thead>\n",
       "  <tbody>\n",
       "    <tr>\n",
       "      <th>0</th>\n",
       "      <td>10.0</td>\n",
       "      <td>NaN</td>\n",
       "      <td>4</td>\n",
       "      <td>5.0</td>\n",
       "    </tr>\n",
       "    <tr>\n",
       "      <th>1</th>\n",
       "      <td>20.0</td>\n",
       "      <td>2.0</td>\n",
       "      <td>12</td>\n",
       "      <td>4.0</td>\n",
       "    </tr>\n",
       "    <tr>\n",
       "      <th>2</th>\n",
       "      <td>NaN</td>\n",
       "      <td>4.0</td>\n",
       "      <td>16</td>\n",
       "      <td>7.0</td>\n",
       "    </tr>\n",
       "    <tr>\n",
       "      <th>3</th>\n",
       "      <td>30.0</td>\n",
       "      <td>6.0</td>\n",
       "      <td>5</td>\n",
       "      <td>NaN</td>\n",
       "    </tr>\n",
       "  </tbody>\n",
       "</table>\n",
       "</div>"
      ],
      "text/plain": [
       "      A    B   C    D\n",
       "0  10.0  NaN   4  5.0\n",
       "1  20.0  2.0  12  4.0\n",
       "2   NaN  4.0  16  7.0\n",
       "3  30.0  6.0   5  NaN"
      ]
     },
     "execution_count": 39,
     "metadata": {},
     "output_type": "execute_result"
    }
   ],
   "source": [
    "df"
   ]
  },
  {
   "cell_type": "code",
   "execution_count": 38,
   "id": "08689dc6",
   "metadata": {},
   "outputs": [
    {
     "data": {
      "text/html": [
       "<div>\n",
       "<style scoped>\n",
       "    .dataframe tbody tr th:only-of-type {\n",
       "        vertical-align: middle;\n",
       "    }\n",
       "\n",
       "    .dataframe tbody tr th {\n",
       "        vertical-align: top;\n",
       "    }\n",
       "\n",
       "    .dataframe thead th {\n",
       "        text-align: right;\n",
       "    }\n",
       "</style>\n",
       "<table border=\"1\" class=\"dataframe\">\n",
       "  <thead>\n",
       "    <tr style=\"text-align: right;\">\n",
       "      <th></th>\n",
       "      <th>A</th>\n",
       "      <th>B</th>\n",
       "      <th>C</th>\n",
       "      <th>D</th>\n",
       "    </tr>\n",
       "  </thead>\n",
       "  <tbody>\n",
       "    <tr>\n",
       "      <th>0</th>\n",
       "      <td>10.0</td>\n",
       "      <td>2.0</td>\n",
       "      <td>4</td>\n",
       "      <td>5.0</td>\n",
       "    </tr>\n",
       "    <tr>\n",
       "      <th>1</th>\n",
       "      <td>20.0</td>\n",
       "      <td>2.0</td>\n",
       "      <td>12</td>\n",
       "      <td>4.0</td>\n",
       "    </tr>\n",
       "    <tr>\n",
       "      <th>2</th>\n",
       "      <td>30.0</td>\n",
       "      <td>4.0</td>\n",
       "      <td>16</td>\n",
       "      <td>7.0</td>\n",
       "    </tr>\n",
       "    <tr>\n",
       "      <th>3</th>\n",
       "      <td>30.0</td>\n",
       "      <td>6.0</td>\n",
       "      <td>5</td>\n",
       "      <td>NaN</td>\n",
       "    </tr>\n",
       "  </tbody>\n",
       "</table>\n",
       "</div>"
      ],
      "text/plain": [
       "      A    B   C    D\n",
       "0  10.0  2.0   4  5.0\n",
       "1  20.0  2.0  12  4.0\n",
       "2  30.0  4.0  16  7.0\n",
       "3  30.0  6.0   5  NaN"
      ]
     },
     "execution_count": 38,
     "metadata": {},
     "output_type": "execute_result"
    }
   ],
   "source": [
    "df.bfill()"
   ]
  },
  {
   "cell_type": "code",
   "execution_count": 40,
   "id": "e39b8ab9",
   "metadata": {},
   "outputs": [
    {
     "data": {
      "text/html": [
       "<div>\n",
       "<style scoped>\n",
       "    .dataframe tbody tr th:only-of-type {\n",
       "        vertical-align: middle;\n",
       "    }\n",
       "\n",
       "    .dataframe tbody tr th {\n",
       "        vertical-align: top;\n",
       "    }\n",
       "\n",
       "    .dataframe thead th {\n",
       "        text-align: right;\n",
       "    }\n",
       "</style>\n",
       "<table border=\"1\" class=\"dataframe\">\n",
       "  <thead>\n",
       "    <tr style=\"text-align: right;\">\n",
       "      <th></th>\n",
       "      <th>A</th>\n",
       "      <th>B</th>\n",
       "      <th>C</th>\n",
       "      <th>D</th>\n",
       "    </tr>\n",
       "  </thead>\n",
       "  <tbody>\n",
       "    <tr>\n",
       "      <th>0</th>\n",
       "      <td>10.0</td>\n",
       "      <td>4.0</td>\n",
       "      <td>4.0</td>\n",
       "      <td>5.0</td>\n",
       "    </tr>\n",
       "    <tr>\n",
       "      <th>1</th>\n",
       "      <td>20.0</td>\n",
       "      <td>2.0</td>\n",
       "      <td>12.0</td>\n",
       "      <td>4.0</td>\n",
       "    </tr>\n",
       "    <tr>\n",
       "      <th>2</th>\n",
       "      <td>4.0</td>\n",
       "      <td>4.0</td>\n",
       "      <td>16.0</td>\n",
       "      <td>7.0</td>\n",
       "    </tr>\n",
       "    <tr>\n",
       "      <th>3</th>\n",
       "      <td>30.0</td>\n",
       "      <td>6.0</td>\n",
       "      <td>5.0</td>\n",
       "      <td>NaN</td>\n",
       "    </tr>\n",
       "  </tbody>\n",
       "</table>\n",
       "</div>"
      ],
      "text/plain": [
       "      A    B     C    D\n",
       "0  10.0  4.0   4.0  5.0\n",
       "1  20.0  2.0  12.0  4.0\n",
       "2   4.0  4.0  16.0  7.0\n",
       "3  30.0  6.0   5.0  NaN"
      ]
     },
     "execution_count": 40,
     "metadata": {},
     "output_type": "execute_result"
    }
   ],
   "source": [
    "df.bfill(axis=1)"
   ]
  },
  {
   "cell_type": "code",
   "execution_count": null,
   "id": "e3cbf6d5",
   "metadata": {},
   "outputs": [],
   "source": []
  }
 ],
 "metadata": {
  "kernelspec": {
   "display_name": "Python 3 (ipykernel)",
   "language": "python",
   "name": "python3"
  },
  "language_info": {
   "codemirror_mode": {
    "name": "ipython",
    "version": 3
   },
   "file_extension": ".py",
   "mimetype": "text/x-python",
   "name": "python",
   "nbconvert_exporter": "python",
   "pygments_lexer": "ipython3",
   "version": "3.8.8"
  }
 },
 "nbformat": 4,
 "nbformat_minor": 5
}
