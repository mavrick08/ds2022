{
 "cells": [
  {
   "cell_type": "markdown",
   "id": "4c3c9b40",
   "metadata": {},
   "source": [
    "pip install pandas"
   ]
  },
  {
   "cell_type": "code",
   "execution_count": null,
   "id": "fbcad48f",
   "metadata": {},
   "outputs": [],
   "source": [
    "import pandas as pd"
   ]
  },
  {
   "cell_type": "code",
   "execution_count": null,
   "id": "f879b70c",
   "metadata": {},
   "outputs": [],
   "source": [
    "pd.__version__"
   ]
  },
  {
   "cell_type": "markdown",
   "id": "e345d8ab",
   "metadata": {},
   "source": [
    "Series is a one-dimensional labeled array capable of holding any data type (integers, strings, floating point numbers,\n",
    "Python objects, etc.). \n",
    "\n",
    "The axis labels are collectively referred to as the index."
   ]
  },
  {
   "cell_type": "code",
   "execution_count": null,
   "id": "b8464c1c",
   "metadata": {},
   "outputs": [],
   "source": [
    "ser1 = pd.Series([10,20,30,40])"
   ]
  },
  {
   "cell_type": "code",
   "execution_count": null,
   "id": "f13b22ad",
   "metadata": {},
   "outputs": [],
   "source": [
    "ser1"
   ]
  },
  {
   "cell_type": "code",
   "execution_count": null,
   "id": "ea6df050",
   "metadata": {},
   "outputs": [],
   "source": [
    "import numpy as np"
   ]
  },
  {
   "cell_type": "code",
   "execution_count": null,
   "id": "deffe56d",
   "metadata": {},
   "outputs": [],
   "source": [
    "arr = np.array([10,20,30,40])"
   ]
  },
  {
   "cell_type": "code",
   "execution_count": null,
   "id": "b5d173fb",
   "metadata": {},
   "outputs": [],
   "source": [
    "print(arr)"
   ]
  },
  {
   "cell_type": "code",
   "execution_count": null,
   "id": "f5ad2874",
   "metadata": {},
   "outputs": [],
   "source": []
  },
  {
   "cell_type": "code",
   "execution_count": null,
   "id": "84f9081c",
   "metadata": {},
   "outputs": [],
   "source": [
    "ser2 = pd.Series([100,200,300,400],index=['a','b','c','d'])"
   ]
  },
  {
   "cell_type": "code",
   "execution_count": null,
   "id": "dde1d56f",
   "metadata": {},
   "outputs": [],
   "source": [
    "ser2"
   ]
  },
  {
   "cell_type": "code",
   "execution_count": null,
   "id": "a81a52fd",
   "metadata": {},
   "outputs": [],
   "source": []
  },
  {
   "cell_type": "code",
   "execution_count": null,
   "id": "eb1632f5",
   "metadata": {},
   "outputs": [],
   "source": [
    "ser1"
   ]
  },
  {
   "cell_type": "code",
   "execution_count": null,
   "id": "f9764980",
   "metadata": {},
   "outputs": [],
   "source": [
    "ser1[0]"
   ]
  },
  {
   "cell_type": "code",
   "execution_count": null,
   "id": "a3871db5",
   "metadata": {},
   "outputs": [],
   "source": [
    "ser1[2]"
   ]
  },
  {
   "cell_type": "code",
   "execution_count": null,
   "id": "c3045b56",
   "metadata": {},
   "outputs": [],
   "source": []
  },
  {
   "cell_type": "code",
   "execution_count": null,
   "id": "26f1e031",
   "metadata": {},
   "outputs": [],
   "source": [
    "ser2"
   ]
  },
  {
   "cell_type": "code",
   "execution_count": null,
   "id": "a8a2efcc",
   "metadata": {},
   "outputs": [],
   "source": [
    "ser2['d']"
   ]
  },
  {
   "cell_type": "code",
   "execution_count": null,
   "id": "adf48d28",
   "metadata": {},
   "outputs": [],
   "source": [
    "ser2[3]"
   ]
  },
  {
   "cell_type": "code",
   "execution_count": null,
   "id": "2e092a44",
   "metadata": {},
   "outputs": [],
   "source": []
  },
  {
   "cell_type": "code",
   "execution_count": null,
   "id": "4445ddda",
   "metadata": {},
   "outputs": [],
   "source": [
    "ser1[0:3]"
   ]
  },
  {
   "cell_type": "code",
   "execution_count": null,
   "id": "5bf425f5",
   "metadata": {},
   "outputs": [],
   "source": [
    "ser2['a':'c']"
   ]
  },
  {
   "cell_type": "code",
   "execution_count": null,
   "id": "1e5cc017",
   "metadata": {},
   "outputs": [],
   "source": [
    "ser2[0:3]"
   ]
  },
  {
   "cell_type": "code",
   "execution_count": null,
   "id": "6b0a0961",
   "metadata": {},
   "outputs": [],
   "source": [
    "ser2[['a','c']]"
   ]
  },
  {
   "cell_type": "code",
   "execution_count": null,
   "id": "bbff7934",
   "metadata": {},
   "outputs": [],
   "source": []
  },
  {
   "cell_type": "code",
   "execution_count": null,
   "id": "26330d52",
   "metadata": {},
   "outputs": [],
   "source": []
  },
  {
   "cell_type": "code",
   "execution_count": null,
   "id": "6a8f5cf3",
   "metadata": {},
   "outputs": [],
   "source": [
    "ser2"
   ]
  },
  {
   "cell_type": "code",
   "execution_count": null,
   "id": "e77863b8",
   "metadata": {},
   "outputs": [],
   "source": [
    "ser2['b'] = 1000"
   ]
  },
  {
   "cell_type": "code",
   "execution_count": null,
   "id": "606ca36d",
   "metadata": {},
   "outputs": [],
   "source": [
    "ser2"
   ]
  },
  {
   "cell_type": "code",
   "execution_count": null,
   "id": "fc40f020",
   "metadata": {},
   "outputs": [],
   "source": [
    "ser2['c':'d'] = 900"
   ]
  },
  {
   "cell_type": "code",
   "execution_count": null,
   "id": "3ab45304",
   "metadata": {},
   "outputs": [],
   "source": [
    "ser2"
   ]
  },
  {
   "cell_type": "code",
   "execution_count": null,
   "id": "610ff844",
   "metadata": {},
   "outputs": [],
   "source": [
    "ser2[['c','d']] = 800"
   ]
  },
  {
   "cell_type": "code",
   "execution_count": null,
   "id": "a0fda341",
   "metadata": {},
   "outputs": [],
   "source": [
    "ser2"
   ]
  },
  {
   "cell_type": "code",
   "execution_count": null,
   "id": "1fe209ab",
   "metadata": {},
   "outputs": [],
   "source": []
  },
  {
   "cell_type": "code",
   "execution_count": null,
   "id": "cf8c36d0",
   "metadata": {},
   "outputs": [],
   "source": [
    "ser2"
   ]
  },
  {
   "cell_type": "code",
   "execution_count": null,
   "id": "3fc8a411",
   "metadata": {},
   "outputs": [],
   "source": [
    "ser2 > 200"
   ]
  },
  {
   "cell_type": "code",
   "execution_count": null,
   "id": "289fd23c",
   "metadata": {},
   "outputs": [],
   "source": [
    "ser2[ser2>200]"
   ]
  },
  {
   "cell_type": "code",
   "execution_count": null,
   "id": "36b56155",
   "metadata": {},
   "outputs": [],
   "source": []
  },
  {
   "cell_type": "code",
   "execution_count": null,
   "id": "2eb24e22",
   "metadata": {},
   "outputs": [],
   "source": [
    "ser3 = pd.Series([10,20,30,40,50])"
   ]
  },
  {
   "cell_type": "raw",
   "id": "62051ea2",
   "metadata": {},
   "source": [
    "ser4 = pd.Series([100,200,300,400,500])"
   ]
  },
  {
   "cell_type": "code",
   "execution_count": null,
   "id": "b267be6e",
   "metadata": {},
   "outputs": [],
   "source": []
  },
  {
   "cell_type": "code",
   "execution_count": null,
   "id": "d78f602d",
   "metadata": {},
   "outputs": [],
   "source": [
    "ser5 = pd.Series(['a','b','c','d'],index=['A','B','C','D'])"
   ]
  },
  {
   "cell_type": "code",
   "execution_count": null,
   "id": "06607d04",
   "metadata": {},
   "outputs": [],
   "source": [
    "ser5"
   ]
  },
  {
   "cell_type": "code",
   "execution_count": null,
   "id": "e42f5c22",
   "metadata": {},
   "outputs": [],
   "source": [
    "ser6 = pd.Series([10,20,30,40])"
   ]
  },
  {
   "cell_type": "code",
   "execution_count": null,
   "id": "ff3e9e41",
   "metadata": {},
   "outputs": [],
   "source": [
    "ser6"
   ]
  },
  {
   "cell_type": "code",
   "execution_count": null,
   "id": "4603811e",
   "metadata": {},
   "outputs": [],
   "source": [
    "ser5+ser6"
   ]
  },
  {
   "cell_type": "code",
   "execution_count": null,
   "id": "3cca720d",
   "metadata": {},
   "outputs": [],
   "source": [
    "ser3"
   ]
  },
  {
   "cell_type": "code",
   "execution_count": null,
   "id": "16b64e60",
   "metadata": {},
   "outputs": [],
   "source": []
  },
  {
   "cell_type": "code",
   "execution_count": null,
   "id": "5a1c230f",
   "metadata": {},
   "outputs": [],
   "source": []
  },
  {
   "cell_type": "code",
   "execution_count": null,
   "id": "27e48e8f",
   "metadata": {},
   "outputs": [],
   "source": []
  },
  {
   "cell_type": "code",
   "execution_count": null,
   "id": "e73974c6",
   "metadata": {},
   "outputs": [],
   "source": []
  },
  {
   "cell_type": "code",
   "execution_count": null,
   "id": "85fc3170",
   "metadata": {},
   "outputs": [],
   "source": []
  },
  {
   "cell_type": "code",
   "execution_count": null,
   "id": "d14f9248",
   "metadata": {},
   "outputs": [],
   "source": [
    "mydict = {\n",
    "    \"Name\":\"Punit\",\n",
    "    \"Age\":29,\n",
    "    \"desg\":\"Python Dev\",\n",
    "    \"loc\":\"Mumbai\"\n",
    "}"
   ]
  },
  {
   "cell_type": "code",
   "execution_count": null,
   "id": "f9f42e0d",
   "metadata": {},
   "outputs": [],
   "source": [
    "mydict"
   ]
  },
  {
   "cell_type": "code",
   "execution_count": null,
   "id": "3a70434b",
   "metadata": {},
   "outputs": [],
   "source": [
    "ser5 = pd.Series(mydict)"
   ]
  },
  {
   "cell_type": "code",
   "execution_count": null,
   "id": "2b210b12",
   "metadata": {},
   "outputs": [],
   "source": [
    "ser5"
   ]
  },
  {
   "cell_type": "code",
   "execution_count": null,
   "id": "bd7790df",
   "metadata": {},
   "outputs": [],
   "source": [
    "get_budgets = [\n",
    "{ \"name\": \"John\", \"age\": 21, \"budget\": 23000 },\n",
    "{ \"name\": \"Steve\", \"age\": 32, \"budget\": 40000 },\n",
    "{ \"name\": \"Martin\", \"age\": 16, \"budget\": 2700 }\n",
    "]"
   ]
  },
  {
   "cell_type": "code",
   "execution_count": null,
   "id": "196afd2b",
   "metadata": {},
   "outputs": [],
   "source": [
    "print(get_budgets)"
   ]
  },
  {
   "cell_type": "code",
   "execution_count": null,
   "id": "97e6f58b",
   "metadata": {},
   "outputs": [],
   "source": [
    "total = 0\n",
    "for items in get_budgets:\n",
    "    total = total + items['budget']\n",
    "print(total)"
   ]
  },
  {
   "cell_type": "code",
   "execution_count": null,
   "id": "85f5fbfb",
   "metadata": {},
   "outputs": [],
   "source": [
    "def get_budget(lst):\n",
    "    total = 0\n",
    "    for items in get_budgets:\n",
    "        total = total + items['budget']\n",
    "    print(total)"
   ]
  },
  {
   "cell_type": "code",
   "execution_count": null,
   "id": "3eeca24f",
   "metadata": {},
   "outputs": [],
   "source": [
    "get_budget([{'name': 'John', 'age': 21, 'budget': 23000}, {'name': 'Steve', 'age': 32, 'budget': 40000}, {'name': 'Martin', 'age': 16, 'budget': 2700}])"
   ]
  },
  {
   "cell_type": "code",
   "execution_count": null,
   "id": "93dcac81",
   "metadata": {},
   "outputs": [],
   "source": []
  },
  {
   "cell_type": "code",
   "execution_count": null,
   "id": "0a56ef24",
   "metadata": {},
   "outputs": [],
   "source": []
  },
  {
   "cell_type": "code",
   "execution_count": null,
   "id": "4e315b6b",
   "metadata": {},
   "outputs": [],
   "source": [
    "city = {\n",
    "    \"Mumbai\":50000,\n",
    "    \"Pune\":30000,\n",
    "    \"Chennai\":20000,\n",
    "    \"Delhi\":10000\n",
    "}"
   ]
  },
  {
   "cell_type": "code",
   "execution_count": null,
   "id": "47c8918e",
   "metadata": {},
   "outputs": [],
   "source": [
    "city"
   ]
  },
  {
   "cell_type": "code",
   "execution_count": null,
   "id": "55a53848",
   "metadata": {},
   "outputs": [],
   "source": [
    "ser7 = pd.Series(city,index=['Mumbai','Pune','Chennai','Jaipur','Ahmedabad','Delhi'])"
   ]
  },
  {
   "cell_type": "code",
   "execution_count": null,
   "id": "85d8d817",
   "metadata": {},
   "outputs": [],
   "source": [
    "ser7"
   ]
  },
  {
   "cell_type": "code",
   "execution_count": null,
   "id": "03e465d0",
   "metadata": {},
   "outputs": [],
   "source": [
    "ser7.isnull() #identifying the null value"
   ]
  },
  {
   "cell_type": "code",
   "execution_count": null,
   "id": "b7384f14",
   "metadata": {},
   "outputs": [],
   "source": [
    "ser7.isna()"
   ]
  },
  {
   "cell_type": "markdown",
   "id": "741ea18b",
   "metadata": {},
   "source": [
    "DataFrame is a 2-dimensional labeled data structure with columns of potentially different types. You can think of it like a spreadsheet or SQL table, or a dict of \n",
    "\n",
    "Series objects. It is generally the most commonly used pandas object. Like\n",
    "\n",
    "Series, DataFrame accepts many different kinds of input:\n",
    "• Dict of 1D ndarrays, lists, dicts, or Series\n",
    "\n",
    "• 2-D numpy.ndarray\n",
    "\n",
    "• Structured or record ndarray\n",
    "\n",
    "• A Series\n",
    "\n",
    "• Another DataFrame\n",
    "\n",
    "\n",
    "Along with the data, you can optionally pass index (row labels) and columns (column labels) arguments. If you pass\n",
    "an index and / or columns, you are guaranteeing the index and / or columns of the resulting DataFrame. Thus, a dict of\n",
    "Series plus a specific index will discard all data not matching up to the passed index"
   ]
  },
  {
   "cell_type": "code",
   "execution_count": null,
   "id": "06552203",
   "metadata": {},
   "outputs": [],
   "source": [
    "print(mydict)"
   ]
  },
  {
   "cell_type": "code",
   "execution_count": null,
   "id": "66189272",
   "metadata": {},
   "outputs": [],
   "source": [
    "mydict = {\n",
    "    \"city\":['Mumbai','Pune','Chennai','Delhi','Goa'],\n",
    "    \"year\":[2017,2018,2019,2020,2021],\n",
    "    \"population\":[1000000,800000,900000,600000,700000]\n",
    "}"
   ]
  },
  {
   "cell_type": "code",
   "execution_count": null,
   "id": "fee56355",
   "metadata": {},
   "outputs": [],
   "source": [
    "df = pd.DataFrame(mydict)"
   ]
  },
  {
   "cell_type": "code",
   "execution_count": null,
   "id": "e52a99c3",
   "metadata": {},
   "outputs": [],
   "source": [
    "df"
   ]
  },
  {
   "cell_type": "code",
   "execution_count": null,
   "id": "03a87987",
   "metadata": {},
   "outputs": [],
   "source": [
    "df2 = pd.DataFrame(mydict,index=['a','b','c','d','e'])"
   ]
  },
  {
   "cell_type": "code",
   "execution_count": null,
   "id": "75514c0d",
   "metadata": {},
   "outputs": [],
   "source": [
    "df.head()"
   ]
  },
  {
   "cell_type": "code",
   "execution_count": null,
   "id": "c6eb5b4f",
   "metadata": {},
   "outputs": [],
   "source": [
    "df.head(3)"
   ]
  },
  {
   "cell_type": "code",
   "execution_count": null,
   "id": "68dd3ffe",
   "metadata": {},
   "outputs": [],
   "source": [
    "df.tail(2)"
   ]
  },
  {
   "cell_type": "code",
   "execution_count": null,
   "id": "5ac90170",
   "metadata": {},
   "outputs": [],
   "source": [
    "df.index"
   ]
  },
  {
   "cell_type": "code",
   "execution_count": null,
   "id": "5da1d3b2",
   "metadata": {},
   "outputs": [],
   "source": [
    "df2.index"
   ]
  },
  {
   "cell_type": "code",
   "execution_count": null,
   "id": "c802766c",
   "metadata": {},
   "outputs": [],
   "source": [
    "df.columns"
   ]
  },
  {
   "cell_type": "code",
   "execution_count": null,
   "id": "922ee916",
   "metadata": {},
   "outputs": [],
   "source": [
    "df.columns = ['CITY','YEAR','POPULATION']"
   ]
  },
  {
   "cell_type": "code",
   "execution_count": null,
   "id": "ea942ac6",
   "metadata": {},
   "outputs": [],
   "source": [
    "df"
   ]
  },
  {
   "cell_type": "code",
   "execution_count": null,
   "id": "0d7a2d71",
   "metadata": {},
   "outputs": [],
   "source": []
  },
  {
   "cell_type": "code",
   "execution_count": null,
   "id": "1a019a8f",
   "metadata": {},
   "outputs": [],
   "source": [
    "df['CITY']"
   ]
  },
  {
   "cell_type": "code",
   "execution_count": null,
   "id": "1c9d9b88",
   "metadata": {},
   "outputs": [],
   "source": [
    "df['POPULATION']"
   ]
  },
  {
   "cell_type": "code",
   "execution_count": null,
   "id": "c31f1233",
   "metadata": {},
   "outputs": [],
   "source": [
    "df['YEAR']"
   ]
  },
  {
   "cell_type": "code",
   "execution_count": null,
   "id": "feafdcff",
   "metadata": {},
   "outputs": [],
   "source": [
    "df[['CITY','YEAR']]"
   ]
  },
  {
   "cell_type": "code",
   "execution_count": null,
   "id": "ae4a9bd8",
   "metadata": {},
   "outputs": [],
   "source": [
    "df"
   ]
  },
  {
   "cell_type": "code",
   "execution_count": null,
   "id": "c33b8ec0",
   "metadata": {},
   "outputs": [],
   "source": [
    "df['debt'] = 3000"
   ]
  },
  {
   "cell_type": "code",
   "execution_count": null,
   "id": "dcc138b9",
   "metadata": {},
   "outputs": [],
   "source": [
    "df"
   ]
  },
  {
   "cell_type": "code",
   "execution_count": null,
   "id": "7cbc3ff3",
   "metadata": {},
   "outputs": [],
   "source": [
    "df2['rank'] = np.arange(1,6)"
   ]
  },
  {
   "cell_type": "code",
   "execution_count": null,
   "id": "31a74418",
   "metadata": {},
   "outputs": [],
   "source": [
    "df2"
   ]
  },
  {
   "cell_type": "code",
   "execution_count": null,
   "id": "3525481b",
   "metadata": {},
   "outputs": [],
   "source": []
  },
  {
   "cell_type": "code",
   "execution_count": null,
   "id": "c16a0ab8",
   "metadata": {},
   "outputs": [],
   "source": [
    "df"
   ]
  },
  {
   "cell_type": "code",
   "execution_count": null,
   "id": "de550f43",
   "metadata": {},
   "outputs": [],
   "source": [
    "df.iloc[0]"
   ]
  },
  {
   "cell_type": "code",
   "execution_count": null,
   "id": "3966c7e8",
   "metadata": {},
   "outputs": [],
   "source": [
    "df2"
   ]
  },
  {
   "cell_type": "code",
   "execution_count": null,
   "id": "4c6d4581",
   "metadata": {},
   "outputs": [],
   "source": [
    "df2.loc['a']"
   ]
  },
  {
   "cell_type": "code",
   "execution_count": null,
   "id": "3023a0d7",
   "metadata": {},
   "outputs": [],
   "source": [
    "df.iloc[[0,1]]"
   ]
  },
  {
   "cell_type": "code",
   "execution_count": null,
   "id": "9e8ac28c",
   "metadata": {},
   "outputs": [],
   "source": [
    "df2.loc[['a','c']]"
   ]
  },
  {
   "cell_type": "code",
   "execution_count": null,
   "id": "6cea70bf",
   "metadata": {},
   "outputs": [],
   "source": []
  },
  {
   "cell_type": "code",
   "execution_count": null,
   "id": "d4f34ca5",
   "metadata": {},
   "outputs": [],
   "source": [
    "df"
   ]
  },
  {
   "cell_type": "code",
   "execution_count": null,
   "id": "9690004f",
   "metadata": {},
   "outputs": [],
   "source": [
    "df['POPULATION'] > 700000"
   ]
  },
  {
   "cell_type": "code",
   "execution_count": null,
   "id": "77a997e7",
   "metadata": {},
   "outputs": [],
   "source": [
    "df[df['POPULATION'] > 700000]"
   ]
  },
  {
   "cell_type": "code",
   "execution_count": null,
   "id": "a48f901d",
   "metadata": {},
   "outputs": [],
   "source": [
    "df[df['CITY']=='Mumbai']"
   ]
  },
  {
   "cell_type": "code",
   "execution_count": null,
   "id": "d2c8f9ae",
   "metadata": {},
   "outputs": [],
   "source": []
  },
  {
   "cell_type": "code",
   "execution_count": null,
   "id": "2c82ed21",
   "metadata": {},
   "outputs": [],
   "source": [
    "df"
   ]
  },
  {
   "cell_type": "code",
   "execution_count": null,
   "id": "ea80a9a3",
   "metadata": {},
   "outputs": [],
   "source": [
    "del df['debt']"
   ]
  },
  {
   "cell_type": "code",
   "execution_count": null,
   "id": "916fbbb8",
   "metadata": {},
   "outputs": [],
   "source": [
    "df"
   ]
  },
  {
   "cell_type": "code",
   "execution_count": null,
   "id": "cfbed7cf",
   "metadata": {},
   "outputs": [],
   "source": [
    "df"
   ]
  },
  {
   "cell_type": "code",
   "execution_count": null,
   "id": "7d1c7d31",
   "metadata": {},
   "outputs": [],
   "source": [
    "df2 = df.drop('debt',axis=1)"
   ]
  },
  {
   "cell_type": "code",
   "execution_count": null,
   "id": "83fad15b",
   "metadata": {},
   "outputs": [],
   "source": [
    "df"
   ]
  },
  {
   "cell_type": "code",
   "execution_count": null,
   "id": "39dc1697",
   "metadata": {},
   "outputs": [],
   "source": [
    "df.drop(0,axis=0) #by default row wise "
   ]
  },
  {
   "cell_type": "code",
   "execution_count": null,
   "id": "942029fa",
   "metadata": {},
   "outputs": [],
   "source": [
    "df.drop(['debt','YEAR'],axis=1,inplace=True)"
   ]
  },
  {
   "cell_type": "code",
   "execution_count": null,
   "id": "4b4172e5",
   "metadata": {},
   "outputs": [],
   "source": [
    "df"
   ]
  },
  {
   "cell_type": "code",
   "execution_count": null,
   "id": "aa8734ac",
   "metadata": {},
   "outputs": [],
   "source": []
  },
  {
   "cell_type": "code",
   "execution_count": null,
   "id": "868843e0",
   "metadata": {},
   "outputs": [],
   "source": [
    "df = pd.DataFrame(np.arange(9).reshape(3,3),columns=['b','c','d'],index=['Mumbai','Pune','Chennai'])"
   ]
  },
  {
   "cell_type": "code",
   "execution_count": null,
   "id": "15fabe4f",
   "metadata": {},
   "outputs": [],
   "source": [
    "df"
   ]
  },
  {
   "cell_type": "code",
   "execution_count": null,
   "id": "cfde3728",
   "metadata": {},
   "outputs": [],
   "source": [
    "df2 = pd.DataFrame(np.arange(12).reshape(4,3),columns=['b','d','e'],index=['Mumbai','Delhi','Chennai','Jaipur'])"
   ]
  },
  {
   "cell_type": "code",
   "execution_count": null,
   "id": "d6a1b5e3",
   "metadata": {},
   "outputs": [],
   "source": [
    "df2"
   ]
  },
  {
   "cell_type": "code",
   "execution_count": null,
   "id": "49e0a130",
   "metadata": {},
   "outputs": [],
   "source": [
    "df+df2"
   ]
  },
  {
   "cell_type": "code",
   "execution_count": null,
   "id": "73131c84",
   "metadata": {},
   "outputs": [],
   "source": [
    "df*df2"
   ]
  },
  {
   "cell_type": "code",
   "execution_count": null,
   "id": "20c884e5",
   "metadata": {},
   "outputs": [],
   "source": [
    "df-df2"
   ]
  },
  {
   "cell_type": "code",
   "execution_count": null,
   "id": "0e7ab77d",
   "metadata": {},
   "outputs": [],
   "source": [
    "df/df2"
   ]
  },
  {
   "cell_type": "code",
   "execution_count": null,
   "id": "efdbdaa7",
   "metadata": {},
   "outputs": [],
   "source": [
    "df3 = df%df2"
   ]
  },
  {
   "cell_type": "code",
   "execution_count": null,
   "id": "1d85e453",
   "metadata": {},
   "outputs": [],
   "source": [
    "df.add(df2)"
   ]
  },
  {
   "cell_type": "code",
   "execution_count": null,
   "id": "964ea6a8",
   "metadata": {},
   "outputs": [],
   "source": [
    "df.add(df2,fill_value=0)"
   ]
  },
  {
   "cell_type": "code",
   "execution_count": null,
   "id": "19ec055d",
   "metadata": {},
   "outputs": [],
   "source": []
  },
  {
   "cell_type": "code",
   "execution_count": null,
   "id": "19bcd1c3",
   "metadata": {},
   "outputs": [],
   "source": [
    "df3"
   ]
  },
  {
   "cell_type": "code",
   "execution_count": null,
   "id": "ded773c7",
   "metadata": {},
   "outputs": [],
   "source": [
    "df3.fillna(\"zero\")"
   ]
  },
  {
   "cell_type": "code",
   "execution_count": null,
   "id": "170a0f4f",
   "metadata": {},
   "outputs": [],
   "source": [
    "df3.fillna(0.0)"
   ]
  },
  {
   "cell_type": "code",
   "execution_count": null,
   "id": "4083d5b1",
   "metadata": {},
   "outputs": [],
   "source": [
    "df3"
   ]
  },
  {
   "cell_type": "code",
   "execution_count": null,
   "id": "467a7a3c",
   "metadata": {},
   "outputs": [],
   "source": [
    "df3.dropna()"
   ]
  },
  {
   "cell_type": "code",
   "execution_count": null,
   "id": "462acd2c",
   "metadata": {},
   "outputs": [],
   "source": [
    "df3.dropna(how='any')"
   ]
  },
  {
   "cell_type": "code",
   "execution_count": null,
   "id": "d334a365",
   "metadata": {},
   "outputs": [],
   "source": []
  },
  {
   "cell_type": "code",
   "execution_count": null,
   "id": "1c8afac7",
   "metadata": {},
   "outputs": [],
   "source": [
    "df4 = pd.DataFrame({\"name\": ['Alfred', 'Batman', 'Catwoman'],\n",
    "...                    \"toy\": [np.nan, 'Batmobile', 'Bullwhip'],\n",
    "...                    \"born\": [pd.NaT, pd.Timestamp(\"1940-04-25\"),\n",
    "...                             pd.NaT]})"
   ]
  },
  {
   "cell_type": "code",
   "execution_count": null,
   "id": "8e58cdca",
   "metadata": {},
   "outputs": [],
   "source": [
    "df4"
   ]
  },
  {
   "cell_type": "code",
   "execution_count": null,
   "id": "0266f7f4",
   "metadata": {},
   "outputs": [],
   "source": [
    "df4.dropna(how='any')"
   ]
  },
  {
   "cell_type": "code",
   "execution_count": null,
   "id": "dd66829a",
   "metadata": {
    "scrolled": true
   },
   "outputs": [],
   "source": [
    "df4.dropna()"
   ]
  },
  {
   "cell_type": "code",
   "execution_count": null,
   "id": "5c70f43e",
   "metadata": {},
   "outputs": [],
   "source": [
    "df4.dropna(how='all',axis=1)"
   ]
  },
  {
   "cell_type": "code",
   "execution_count": null,
   "id": "f0a2aa94",
   "metadata": {},
   "outputs": [],
   "source": []
  },
  {
   "cell_type": "markdown",
   "id": "5cea4b6c",
   "metadata": {},
   "source": [
    "# custom functions in pandas"
   ]
  },
  {
   "cell_type": "code",
   "execution_count": null,
   "id": "2944e817",
   "metadata": {},
   "outputs": [],
   "source": [
    "df1 = pd.DataFrame(np.random.randn(4,3),columns=['b','d','e'],index=['Mumbai','Pune','Chennai','Delhi'])"
   ]
  },
  {
   "cell_type": "code",
   "execution_count": null,
   "id": "c3334538",
   "metadata": {},
   "outputs": [],
   "source": [
    "df1"
   ]
  },
  {
   "cell_type": "code",
   "execution_count": null,
   "id": "8919ffb8",
   "metadata": {},
   "outputs": [],
   "source": [
    "1.18 - 0.30"
   ]
  },
  {
   "cell_type": "code",
   "execution_count": null,
   "id": "fdacd52c",
   "metadata": {},
   "outputs": [],
   "source": []
  },
  {
   "cell_type": "code",
   "execution_count": null,
   "id": "d88d6361",
   "metadata": {},
   "outputs": [],
   "source": [
    "diff = lambda x : x.max() - x.min()"
   ]
  },
  {
   "cell_type": "code",
   "execution_count": null,
   "id": "38ac6ec2",
   "metadata": {},
   "outputs": [],
   "source": [
    "df1['Difference'] = df1.apply(diff,axis=1)"
   ]
  },
  {
   "cell_type": "code",
   "execution_count": null,
   "id": "17b49d22",
   "metadata": {},
   "outputs": [],
   "source": [
    "df1"
   ]
  },
  {
   "cell_type": "code",
   "execution_count": null,
   "id": "e8eec137",
   "metadata": {},
   "outputs": [],
   "source": [
    "df2 = pd.DataFrame({\"Name\" : ['punit k','abhishek s','ganesh s','hafiz s'],\n",
    "                    \"Physics\":[76,84,68,94],\n",
    "                    \"Maths\":[81,67,91,86],\n",
    "                    \"English\":[72,93,84,76], })"
   ]
  },
  {
   "cell_type": "code",
   "execution_count": null,
   "id": "3c7612cb",
   "metadata": {},
   "outputs": [],
   "source": [
    "df2"
   ]
  },
  {
   "cell_type": "code",
   "execution_count": null,
   "id": "dbe6e7b8",
   "metadata": {},
   "outputs": [],
   "source": [
    "df3 = df2.drop('Name',axis=1)"
   ]
  },
  {
   "cell_type": "code",
   "execution_count": null,
   "id": "b2f67a30",
   "metadata": {},
   "outputs": [],
   "source": [
    "df3"
   ]
  },
  {
   "cell_type": "code",
   "execution_count": null,
   "id": "afc61303",
   "metadata": {},
   "outputs": [],
   "source": [
    "def get_avg(marks):\n",
    "    return sum(marks) / len(marks)"
   ]
  },
  {
   "cell_type": "code",
   "execution_count": null,
   "id": "df360957",
   "metadata": {},
   "outputs": [],
   "source": [
    "df2['average'] = df3.apply(get_avg,axis=1)"
   ]
  },
  {
   "cell_type": "code",
   "execution_count": null,
   "id": "3db83aa4",
   "metadata": {},
   "outputs": [],
   "source": [
    "df2['average'] = df3.apply(get_avg,axis=1)"
   ]
  },
  {
   "cell_type": "code",
   "execution_count": null,
   "id": "5d343905",
   "metadata": {},
   "outputs": [],
   "source": [
    "df2"
   ]
  },
  {
   "cell_type": "code",
   "execution_count": null,
   "id": "bf7d583c",
   "metadata": {},
   "outputs": [],
   "source": [
    "def to_upper(data):\n",
    "    return data.upper()"
   ]
  },
  {
   "cell_type": "code",
   "execution_count": null,
   "id": "64fd63df",
   "metadata": {},
   "outputs": [],
   "source": []
  },
  {
   "cell_type": "code",
   "execution_count": null,
   "id": "dbdc06dd",
   "metadata": {},
   "outputs": [],
   "source": [
    "df2['Name'] = df2['Name'].apply(to_upper)"
   ]
  },
  {
   "cell_type": "code",
   "execution_count": null,
   "id": "20765d24",
   "metadata": {},
   "outputs": [],
   "source": [
    "df2"
   ]
  },
  {
   "cell_type": "code",
   "execution_count": null,
   "id": "640bf309",
   "metadata": {},
   "outputs": [],
   "source": [
    "up_lam = map(lambda data: data.upper(),df2['Name'])"
   ]
  },
  {
   "cell_type": "code",
   "execution_count": null,
   "id": "56592f08",
   "metadata": {},
   "outputs": [],
   "source": [
    "list(up_lam)"
   ]
  },
  {
   "cell_type": "code",
   "execution_count": null,
   "id": "f3f84ca9",
   "metadata": {},
   "outputs": [],
   "source": [
    "import numpy as np\n",
    "import pandas as pd"
   ]
  },
  {
   "cell_type": "markdown",
   "id": "aa104ad2",
   "metadata": {},
   "source": [
    "## sorting"
   ]
  },
  {
   "cell_type": "code",
   "execution_count": null,
   "id": "fc84898e",
   "metadata": {},
   "outputs": [],
   "source": [
    "obj = pd.Series(range(4),index=['d','a','b','c'])"
   ]
  },
  {
   "cell_type": "code",
   "execution_count": null,
   "id": "1d730656",
   "metadata": {},
   "outputs": [],
   "source": [
    "obj"
   ]
  },
  {
   "cell_type": "code",
   "execution_count": null,
   "id": "b92f2a92",
   "metadata": {},
   "outputs": [],
   "source": [
    "obj.sort_index()"
   ]
  },
  {
   "cell_type": "code",
   "execution_count": null,
   "id": "91b0f12d",
   "metadata": {},
   "outputs": [],
   "source": [
    "obj.sort_values()"
   ]
  },
  {
   "cell_type": "code",
   "execution_count": null,
   "id": "6ad44f87",
   "metadata": {},
   "outputs": [],
   "source": [
    "frame = pd.DataFrame(np.arange(8).reshape(2,4),index=['three','one']\n",
    "                    ,columns=['d','a','b','c'])"
   ]
  },
  {
   "cell_type": "code",
   "execution_count": null,
   "id": "9e2336db",
   "metadata": {},
   "outputs": [],
   "source": [
    "frame"
   ]
  },
  {
   "cell_type": "code",
   "execution_count": null,
   "id": "87cd2771",
   "metadata": {},
   "outputs": [],
   "source": [
    "frame.sort_index(ascending=False)"
   ]
  },
  {
   "cell_type": "code",
   "execution_count": null,
   "id": "c4a9d039",
   "metadata": {},
   "outputs": [],
   "source": [
    "frame.sort_index(axis=1,ascending=False)"
   ]
  },
  {
   "cell_type": "code",
   "execution_count": null,
   "id": "309f8acd",
   "metadata": {},
   "outputs": [],
   "source": []
  },
  {
   "cell_type": "code",
   "execution_count": null,
   "id": "3d8ac7e3",
   "metadata": {},
   "outputs": [],
   "source": [
    "df = pd.DataFrame([[1.4,np.nan],[7.1,4.5],[np.nan,np.nan],[0.75,-1.3]],\n",
    "                  index=['a','b','c','d'],columns=['A','B'])"
   ]
  },
  {
   "cell_type": "code",
   "execution_count": null,
   "id": "7e599385",
   "metadata": {},
   "outputs": [],
   "source": [
    "df"
   ]
  },
  {
   "cell_type": "code",
   "execution_count": null,
   "id": "50d6d5b5",
   "metadata": {},
   "outputs": [],
   "source": [
    "df.sum() #sum column wise"
   ]
  },
  {
   "cell_type": "code",
   "execution_count": null,
   "id": "371703ee",
   "metadata": {},
   "outputs": [],
   "source": [
    "df.sum(axis=1) #sum row wise"
   ]
  },
  {
   "cell_type": "code",
   "execution_count": null,
   "id": "3e47dc2d",
   "metadata": {},
   "outputs": [],
   "source": [
    "df.mean()"
   ]
  },
  {
   "cell_type": "code",
   "execution_count": null,
   "id": "d6b7e942",
   "metadata": {},
   "outputs": [],
   "source": [
    "df.mean(axis=1)"
   ]
  },
  {
   "cell_type": "code",
   "execution_count": null,
   "id": "0c965537",
   "metadata": {},
   "outputs": [],
   "source": [
    "df"
   ]
  },
  {
   "cell_type": "code",
   "execution_count": null,
   "id": "798271e9",
   "metadata": {},
   "outputs": [],
   "source": [
    "df.mean(axis=1,skipna=True)"
   ]
  },
  {
   "cell_type": "code",
   "execution_count": null,
   "id": "8d70dad0",
   "metadata": {},
   "outputs": [],
   "source": []
  },
  {
   "cell_type": "code",
   "execution_count": null,
   "id": "4840bd0d",
   "metadata": {},
   "outputs": [],
   "source": [
    "df.describe()"
   ]
  },
  {
   "cell_type": "code",
   "execution_count": null,
   "id": "209d8637",
   "metadata": {},
   "outputs": [],
   "source": [
    "df.std()"
   ]
  },
  {
   "cell_type": "code",
   "execution_count": null,
   "id": "ada43654",
   "metadata": {},
   "outputs": [],
   "source": [
    "obj = pd.Series(['c','a','d','a','a','b','b','c','c'])"
   ]
  },
  {
   "cell_type": "code",
   "execution_count": null,
   "id": "60a1900e",
   "metadata": {},
   "outputs": [],
   "source": [
    "obj"
   ]
  },
  {
   "cell_type": "code",
   "execution_count": null,
   "id": "c30b2832",
   "metadata": {},
   "outputs": [],
   "source": [
    "obj.unique()"
   ]
  },
  {
   "cell_type": "code",
   "execution_count": null,
   "id": "117711a1",
   "metadata": {},
   "outputs": [],
   "source": [
    "obj.value_counts()"
   ]
  },
  {
   "cell_type": "code",
   "execution_count": null,
   "id": "bb6c5d48",
   "metadata": {},
   "outputs": [],
   "source": [
    "obj"
   ]
  },
  {
   "cell_type": "code",
   "execution_count": null,
   "id": "475f44a0",
   "metadata": {},
   "outputs": [],
   "source": [
    "obj.isin(['c','a'])"
   ]
  },
  {
   "cell_type": "code",
   "execution_count": null,
   "id": "a0e65de0",
   "metadata": {},
   "outputs": [],
   "source": []
  },
  {
   "cell_type": "code",
   "execution_count": null,
   "id": "be8388e3",
   "metadata": {},
   "outputs": [],
   "source": [
    "df = pd.read_csv('demo.csv')"
   ]
  },
  {
   "cell_type": "code",
   "execution_count": null,
   "id": "189bf893",
   "metadata": {},
   "outputs": [],
   "source": [
    "df"
   ]
  },
  {
   "cell_type": "code",
   "execution_count": null,
   "id": "967616ae",
   "metadata": {},
   "outputs": [],
   "source": []
  },
  {
   "cell_type": "code",
   "execution_count": null,
   "id": "6d8a102a",
   "metadata": {},
   "outputs": [],
   "source": [
    "pd.read_csv('demo.csv',header=None)"
   ]
  },
  {
   "cell_type": "code",
   "execution_count": null,
   "id": "9b2ea017",
   "metadata": {},
   "outputs": [],
   "source": [
    "pd.read_csv('demo.csv',names=['one','two','three','four','message'])"
   ]
  },
  {
   "cell_type": "code",
   "execution_count": null,
   "id": "7f6ab00a",
   "metadata": {},
   "outputs": [],
   "source": [
    "pd.read_csv('demo.csv',names=['one','two','three','four','message'],skiprows=[2,4])"
   ]
  },
  {
   "cell_type": "code",
   "execution_count": null,
   "id": "d6d54d32",
   "metadata": {},
   "outputs": [],
   "source": [
    "pd.read_csv('demo.csv',nrows=3)"
   ]
  },
  {
   "cell_type": "code",
   "execution_count": null,
   "id": "508300b5",
   "metadata": {},
   "outputs": [],
   "source": [
    "df"
   ]
  },
  {
   "cell_type": "code",
   "execution_count": null,
   "id": "bc137d52",
   "metadata": {},
   "outputs": [],
   "source": [
    "df.columns"
   ]
  },
  {
   "cell_type": "code",
   "execution_count": null,
   "id": "bed6dc67",
   "metadata": {},
   "outputs": [],
   "source": [
    "df.index"
   ]
  },
  {
   "cell_type": "code",
   "execution_count": null,
   "id": "4ccc42ae",
   "metadata": {},
   "outputs": [],
   "source": [
    "pd.read_csv('demo.csv',nrows=5)"
   ]
  },
  {
   "cell_type": "code",
   "execution_count": null,
   "id": "21ca08c7",
   "metadata": {},
   "outputs": [],
   "source": []
  },
  {
   "cell_type": "code",
   "execution_count": null,
   "id": "ed396e30",
   "metadata": {},
   "outputs": [],
   "source": [
    "obj = \"\"\"\n",
    "{\n",
    "    \"name\":\"Steve\",\n",
    "    \"places_lived\":[\"India\",\"USA\",\"Japan\"],\n",
    "    \"pet\":\"None\",\n",
    "    \"sibling\":[\n",
    "        {\"name\":\"Henry\",\"age\":29,\"pet\":[\"bruno\",\"alpha\"]},\n",
    "        {\"name\":\"Katie\",\"age\":32,\"pet\":[\"Simba\",\"Bru\",\"Cisco\"]}\n",
    "    ]\n",
    "}\n",
    "\"\"\""
   ]
  },
  {
   "cell_type": "code",
   "execution_count": null,
   "id": "1e55c7e2",
   "metadata": {},
   "outputs": [],
   "source": [
    "print(obj)"
   ]
  },
  {
   "cell_type": "code",
   "execution_count": null,
   "id": "5878a225",
   "metadata": {},
   "outputs": [],
   "source": [
    "type(obj)"
   ]
  },
  {
   "cell_type": "code",
   "execution_count": null,
   "id": "0eb935bd",
   "metadata": {},
   "outputs": [],
   "source": [
    "import json"
   ]
  },
  {
   "cell_type": "code",
   "execution_count": null,
   "id": "558bd76f",
   "metadata": {},
   "outputs": [],
   "source": [
    "result = json.loads(obj)"
   ]
  },
  {
   "cell_type": "code",
   "execution_count": null,
   "id": "fabcc29c",
   "metadata": {},
   "outputs": [],
   "source": [
    "print(result)"
   ]
  },
  {
   "cell_type": "code",
   "execution_count": null,
   "id": "279524e0",
   "metadata": {},
   "outputs": [],
   "source": [
    "type(result)"
   ]
  },
  {
   "cell_type": "code",
   "execution_count": null,
   "id": "64e9a562",
   "metadata": {},
   "outputs": [],
   "source": [
    "result['sibling']"
   ]
  },
  {
   "cell_type": "code",
   "execution_count": null,
   "id": "5e7854df",
   "metadata": {},
   "outputs": [],
   "source": [
    "result['places_lived']"
   ]
  },
  {
   "cell_type": "code",
   "execution_count": null,
   "id": "246522b4",
   "metadata": {},
   "outputs": [],
   "source": [
    "result['sibling'][1]['name']"
   ]
  },
  {
   "cell_type": "code",
   "execution_count": null,
   "id": "2dd82460",
   "metadata": {},
   "outputs": [],
   "source": [
    "import pandas as pd\n",
    "import numpy as np"
   ]
  },
  {
   "cell_type": "code",
   "execution_count": null,
   "id": "265c7113",
   "metadata": {},
   "outputs": [],
   "source": [
    "pd.DataFrame(result['sibling'])"
   ]
  },
  {
   "cell_type": "code",
   "execution_count": null,
   "id": "98691a7c",
   "metadata": {},
   "outputs": [],
   "source": [
    "pd.DataFrame(result['sibling'],columns=['name','age'])"
   ]
  },
  {
   "cell_type": "code",
   "execution_count": null,
   "id": "81c9d5f1",
   "metadata": {},
   "outputs": [],
   "source": [
    "pd.read_json('https://www.w3schools.com/python/pandas/data.js')"
   ]
  },
  {
   "cell_type": "code",
   "execution_count": null,
   "id": "42622bd4",
   "metadata": {},
   "outputs": [],
   "source": []
  },
  {
   "cell_type": "code",
   "execution_count": null,
   "id": "5f3afb9a",
   "metadata": {},
   "outputs": [],
   "source": []
  },
  {
   "cell_type": "code",
   "execution_count": null,
   "id": "4337d817",
   "metadata": {},
   "outputs": [],
   "source": [
    "data = pd.DataFrame({\n",
    "    'k1':['one','two']*3 + ['two'],\n",
    "    'k2':[1,3,4,3,1,4,4]\n",
    "    \n",
    "})"
   ]
  },
  {
   "cell_type": "code",
   "execution_count": null,
   "id": "d32ec116",
   "metadata": {},
   "outputs": [],
   "source": [
    "data"
   ]
  },
  {
   "cell_type": "code",
   "execution_count": null,
   "id": "f1d93325",
   "metadata": {},
   "outputs": [],
   "source": [
    "data['k1'].notnull()"
   ]
  },
  {
   "cell_type": "code",
   "execution_count": null,
   "id": "8590233e",
   "metadata": {},
   "outputs": [],
   "source": [
    "data"
   ]
  },
  {
   "cell_type": "code",
   "execution_count": null,
   "id": "67a3689f",
   "metadata": {},
   "outputs": [],
   "source": [
    "data.duplicated()"
   ]
  },
  {
   "cell_type": "code",
   "execution_count": null,
   "id": "ee523b5f",
   "metadata": {},
   "outputs": [],
   "source": [
    "data.drop_duplicates()"
   ]
  },
  {
   "cell_type": "code",
   "execution_count": null,
   "id": "1671a6f0",
   "metadata": {},
   "outputs": [],
   "source": []
  },
  {
   "cell_type": "code",
   "execution_count": null,
   "id": "9c90ed8d",
   "metadata": {},
   "outputs": [],
   "source": [
    "data = pd.DataFrame(\n",
    "    {\n",
    "        \"food\":['apple','egg','wheat','bread','rice','dal','grapes',\n",
    "               'pineapple','honey'],\n",
    "        \n",
    "        \"calories\":[4,3,12,6,7.5,8,3,5,6]\n",
    "        \n",
    "        \n",
    "    }\n",
    "\n",
    ")"
   ]
  },
  {
   "cell_type": "code",
   "execution_count": null,
   "id": "e62d4b5d",
   "metadata": {},
   "outputs": [],
   "source": [
    "data"
   ]
  },
  {
   "cell_type": "code",
   "execution_count": null,
   "id": "23aaf594",
   "metadata": {},
   "outputs": [],
   "source": [
    "food_categories = {\n",
    "    \"apple\":'fruit',\n",
    "    \"egg\":'non veg food',\n",
    "    \"wheat\":\"grain\",\n",
    "    \"bread\":\"veg food\",\n",
    "    \"rice\":\"grain\",\n",
    "    \"grapes\":\"fruit\",\n",
    "    \"pineapple\":\"fruit\",\n",
    "    \"honey\":\"veg food\",\n",
    "    \"dal\":\"grain\"\n",
    "}"
   ]
  },
  {
   "cell_type": "code",
   "execution_count": null,
   "id": "17f11c9e",
   "metadata": {},
   "outputs": [],
   "source": [
    "food_categories"
   ]
  },
  {
   "cell_type": "code",
   "execution_count": null,
   "id": "aefd1894",
   "metadata": {},
   "outputs": [],
   "source": [
    "data['categories'] = data['food'].map(food_categories)"
   ]
  },
  {
   "cell_type": "code",
   "execution_count": null,
   "id": "3a2e0c01",
   "metadata": {},
   "outputs": [],
   "source": [
    "data"
   ]
  },
  {
   "cell_type": "code",
   "execution_count": null,
   "id": "55687aec",
   "metadata": {},
   "outputs": [],
   "source": []
  },
  {
   "cell_type": "code",
   "execution_count": null,
   "id": "e0db4cd4",
   "metadata": {},
   "outputs": [],
   "source": [
    "ages = [20,22,25,25,24,27,19,21,27,31,28,61,45,41,32]"
   ]
  },
  {
   "cell_type": "code",
   "execution_count": null,
   "id": "e1b89820",
   "metadata": {},
   "outputs": [],
   "source": [
    "bins = [15,25,35,45,55,65]"
   ]
  },
  {
   "cell_type": "code",
   "execution_count": null,
   "id": "5916c552",
   "metadata": {},
   "outputs": [],
   "source": [
    "cat = pd.cut(ages,bins)"
   ]
  },
  {
   "cell_type": "code",
   "execution_count": null,
   "id": "0c187a93",
   "metadata": {},
   "outputs": [],
   "source": [
    "cat"
   ]
  },
  {
   "cell_type": "code",
   "execution_count": null,
   "id": "44563697",
   "metadata": {},
   "outputs": [],
   "source": [
    "pd.value_counts(cat)"
   ]
  },
  {
   "cell_type": "code",
   "execution_count": 1,
   "id": "3bc783f8",
   "metadata": {},
   "outputs": [],
   "source": [
    "import numpy as np\n",
    "import pandas as pd"
   ]
  },
  {
   "cell_type": "code",
   "execution_count": null,
   "id": "acd04de2",
   "metadata": {},
   "outputs": [],
   "source": []
  },
  {
   "cell_type": "code",
   "execution_count": 2,
   "id": "c034271f",
   "metadata": {},
   "outputs": [],
   "source": [
    "fruits = ['apple','mango','apple','apple']*2"
   ]
  },
  {
   "cell_type": "code",
   "execution_count": 3,
   "id": "2426cab8",
   "metadata": {},
   "outputs": [
    {
     "data": {
      "text/plain": [
       "['apple', 'mango', 'apple', 'apple', 'apple', 'mango', 'apple', 'apple']"
      ]
     },
     "execution_count": 3,
     "metadata": {},
     "output_type": "execute_result"
    }
   ],
   "source": [
    "fruits"
   ]
  },
  {
   "cell_type": "code",
   "execution_count": 6,
   "id": "e05b65f1",
   "metadata": {},
   "outputs": [],
   "source": [
    "fruit_data = pd.DataFrame({\n",
    "    'fruit':fruits,\n",
    "    'basket_id':[0, 1, 2, 3, 4, 5, 6, 7],\n",
    "    'count':np.random.randint(3,15,size=len(fruits)),\n",
    "    'weight':np.random.uniform(0,4,size=len(fruits))\n",
    "},columns=['basket_id','fruit','count','weight'])"
   ]
  },
  {
   "cell_type": "code",
   "execution_count": 7,
   "id": "c7e9e3b6",
   "metadata": {},
   "outputs": [
    {
     "data": {
      "text/html": [
       "<div>\n",
       "<style scoped>\n",
       "    .dataframe tbody tr th:only-of-type {\n",
       "        vertical-align: middle;\n",
       "    }\n",
       "\n",
       "    .dataframe tbody tr th {\n",
       "        vertical-align: top;\n",
       "    }\n",
       "\n",
       "    .dataframe thead th {\n",
       "        text-align: right;\n",
       "    }\n",
       "</style>\n",
       "<table border=\"1\" class=\"dataframe\">\n",
       "  <thead>\n",
       "    <tr style=\"text-align: right;\">\n",
       "      <th></th>\n",
       "      <th>basket_id</th>\n",
       "      <th>fruit</th>\n",
       "      <th>count</th>\n",
       "      <th>weight</th>\n",
       "    </tr>\n",
       "  </thead>\n",
       "  <tbody>\n",
       "    <tr>\n",
       "      <th>0</th>\n",
       "      <td>0</td>\n",
       "      <td>apple</td>\n",
       "      <td>5</td>\n",
       "      <td>1.959405</td>\n",
       "    </tr>\n",
       "    <tr>\n",
       "      <th>1</th>\n",
       "      <td>1</td>\n",
       "      <td>mango</td>\n",
       "      <td>5</td>\n",
       "      <td>2.142215</td>\n",
       "    </tr>\n",
       "    <tr>\n",
       "      <th>2</th>\n",
       "      <td>2</td>\n",
       "      <td>apple</td>\n",
       "      <td>6</td>\n",
       "      <td>0.605951</td>\n",
       "    </tr>\n",
       "    <tr>\n",
       "      <th>3</th>\n",
       "      <td>3</td>\n",
       "      <td>apple</td>\n",
       "      <td>3</td>\n",
       "      <td>3.366236</td>\n",
       "    </tr>\n",
       "    <tr>\n",
       "      <th>4</th>\n",
       "      <td>4</td>\n",
       "      <td>apple</td>\n",
       "      <td>11</td>\n",
       "      <td>2.503180</td>\n",
       "    </tr>\n",
       "    <tr>\n",
       "      <th>5</th>\n",
       "      <td>5</td>\n",
       "      <td>mango</td>\n",
       "      <td>11</td>\n",
       "      <td>2.535777</td>\n",
       "    </tr>\n",
       "    <tr>\n",
       "      <th>6</th>\n",
       "      <td>6</td>\n",
       "      <td>apple</td>\n",
       "      <td>8</td>\n",
       "      <td>2.928294</td>\n",
       "    </tr>\n",
       "    <tr>\n",
       "      <th>7</th>\n",
       "      <td>7</td>\n",
       "      <td>apple</td>\n",
       "      <td>6</td>\n",
       "      <td>3.028726</td>\n",
       "    </tr>\n",
       "  </tbody>\n",
       "</table>\n",
       "</div>"
      ],
      "text/plain": [
       "   basket_id  fruit  count    weight\n",
       "0          0  apple      5  1.959405\n",
       "1          1  mango      5  2.142215\n",
       "2          2  apple      6  0.605951\n",
       "3          3  apple      3  3.366236\n",
       "4          4  apple     11  2.503180\n",
       "5          5  mango     11  2.535777\n",
       "6          6  apple      8  2.928294\n",
       "7          7  apple      6  3.028726"
      ]
     },
     "execution_count": 7,
     "metadata": {},
     "output_type": "execute_result"
    }
   ],
   "source": [
    "fruit_data"
   ]
  },
  {
   "cell_type": "code",
   "execution_count": null,
   "id": "8f0f1ab4",
   "metadata": {},
   "outputs": [],
   "source": [
    "len(fruits)"
   ]
  },
  {
   "cell_type": "code",
   "execution_count": null,
   "id": "935e3d0f",
   "metadata": {},
   "outputs": [],
   "source": [
    "np.arange(8)"
   ]
  },
  {
   "cell_type": "code",
   "execution_count": 10,
   "id": "73613248",
   "metadata": {},
   "outputs": [
    {
     "name": "stdout",
     "output_type": "stream",
     "text": [
      "<class 'pandas.core.frame.DataFrame'>\n",
      "RangeIndex: 8 entries, 0 to 7\n",
      "Data columns (total 4 columns):\n",
      " #   Column     Non-Null Count  Dtype  \n",
      "---  ------     --------------  -----  \n",
      " 0   basket_id  8 non-null      int64  \n",
      " 1   fruit      8 non-null      object \n",
      " 2   count      8 non-null      int64  \n",
      " 3   weight     8 non-null      float64\n",
      "dtypes: float64(1), int64(2), object(1)\n",
      "memory usage: 384.0+ bytes\n"
     ]
    }
   ],
   "source": [
    "fruit_data.info()"
   ]
  },
  {
   "cell_type": "code",
   "execution_count": 11,
   "id": "245e8c6e",
   "metadata": {},
   "outputs": [
    {
     "data": {
      "text/html": [
       "<div>\n",
       "<style scoped>\n",
       "    .dataframe tbody tr th:only-of-type {\n",
       "        vertical-align: middle;\n",
       "    }\n",
       "\n",
       "    .dataframe tbody tr th {\n",
       "        vertical-align: top;\n",
       "    }\n",
       "\n",
       "    .dataframe thead th {\n",
       "        text-align: right;\n",
       "    }\n",
       "</style>\n",
       "<table border=\"1\" class=\"dataframe\">\n",
       "  <thead>\n",
       "    <tr style=\"text-align: right;\">\n",
       "      <th></th>\n",
       "      <th>basket_id</th>\n",
       "      <th>fruit</th>\n",
       "      <th>count</th>\n",
       "      <th>weight</th>\n",
       "    </tr>\n",
       "  </thead>\n",
       "  <tbody>\n",
       "    <tr>\n",
       "      <th>0</th>\n",
       "      <td>0</td>\n",
       "      <td>apple</td>\n",
       "      <td>5</td>\n",
       "      <td>1.959405</td>\n",
       "    </tr>\n",
       "    <tr>\n",
       "      <th>1</th>\n",
       "      <td>1</td>\n",
       "      <td>mango</td>\n",
       "      <td>5</td>\n",
       "      <td>2.142215</td>\n",
       "    </tr>\n",
       "    <tr>\n",
       "      <th>2</th>\n",
       "      <td>2</td>\n",
       "      <td>apple</td>\n",
       "      <td>6</td>\n",
       "      <td>0.605951</td>\n",
       "    </tr>\n",
       "    <tr>\n",
       "      <th>3</th>\n",
       "      <td>3</td>\n",
       "      <td>apple</td>\n",
       "      <td>3</td>\n",
       "      <td>3.366236</td>\n",
       "    </tr>\n",
       "    <tr>\n",
       "      <th>4</th>\n",
       "      <td>4</td>\n",
       "      <td>apple</td>\n",
       "      <td>11</td>\n",
       "      <td>2.503180</td>\n",
       "    </tr>\n",
       "    <tr>\n",
       "      <th>5</th>\n",
       "      <td>5</td>\n",
       "      <td>mango</td>\n",
       "      <td>11</td>\n",
       "      <td>2.535777</td>\n",
       "    </tr>\n",
       "    <tr>\n",
       "      <th>6</th>\n",
       "      <td>6</td>\n",
       "      <td>apple</td>\n",
       "      <td>8</td>\n",
       "      <td>2.928294</td>\n",
       "    </tr>\n",
       "    <tr>\n",
       "      <th>7</th>\n",
       "      <td>7</td>\n",
       "      <td>apple</td>\n",
       "      <td>6</td>\n",
       "      <td>3.028726</td>\n",
       "    </tr>\n",
       "  </tbody>\n",
       "</table>\n",
       "</div>"
      ],
      "text/plain": [
       "   basket_id  fruit  count    weight\n",
       "0          0  apple      5  1.959405\n",
       "1          1  mango      5  2.142215\n",
       "2          2  apple      6  0.605951\n",
       "3          3  apple      3  3.366236\n",
       "4          4  apple     11  2.503180\n",
       "5          5  mango     11  2.535777\n",
       "6          6  apple      8  2.928294\n",
       "7          7  apple      6  3.028726"
      ]
     },
     "execution_count": 11,
     "metadata": {},
     "output_type": "execute_result"
    }
   ],
   "source": [
    "fruit_data"
   ]
  },
  {
   "cell_type": "code",
   "execution_count": 12,
   "id": "dbd38986",
   "metadata": {},
   "outputs": [],
   "source": [
    "fruit_cat = fruit_data['fruit'].astype('category')"
   ]
  },
  {
   "cell_type": "code",
   "execution_count": 13,
   "id": "060d6c5a",
   "metadata": {},
   "outputs": [
    {
     "data": {
      "text/plain": [
       "0    apple\n",
       "1    mango\n",
       "2    apple\n",
       "3    apple\n",
       "4    apple\n",
       "5    mango\n",
       "6    apple\n",
       "7    apple\n",
       "Name: fruit, dtype: category\n",
       "Categories (2, object): ['apple', 'mango']"
      ]
     },
     "execution_count": 13,
     "metadata": {},
     "output_type": "execute_result"
    }
   ],
   "source": [
    "fruit_cat"
   ]
  },
  {
   "cell_type": "code",
   "execution_count": 14,
   "id": "6b4f6c22",
   "metadata": {},
   "outputs": [
    {
     "data": {
      "text/plain": [
       "apple    6\n",
       "mango    2\n",
       "Name: fruit, dtype: int64"
      ]
     },
     "execution_count": 14,
     "metadata": {},
     "output_type": "execute_result"
    }
   ],
   "source": [
    "fruit_cat.value_counts()"
   ]
  },
  {
   "cell_type": "code",
   "execution_count": 15,
   "id": "144a88bd",
   "metadata": {},
   "outputs": [],
   "source": [
    "fruit_data['fruit'] = fruit_data['fruit'].astype('category')"
   ]
  },
  {
   "cell_type": "code",
   "execution_count": 16,
   "id": "aebeedd2",
   "metadata": {},
   "outputs": [
    {
     "data": {
      "text/html": [
       "<div>\n",
       "<style scoped>\n",
       "    .dataframe tbody tr th:only-of-type {\n",
       "        vertical-align: middle;\n",
       "    }\n",
       "\n",
       "    .dataframe tbody tr th {\n",
       "        vertical-align: top;\n",
       "    }\n",
       "\n",
       "    .dataframe thead th {\n",
       "        text-align: right;\n",
       "    }\n",
       "</style>\n",
       "<table border=\"1\" class=\"dataframe\">\n",
       "  <thead>\n",
       "    <tr style=\"text-align: right;\">\n",
       "      <th></th>\n",
       "      <th>basket_id</th>\n",
       "      <th>fruit</th>\n",
       "      <th>count</th>\n",
       "      <th>weight</th>\n",
       "    </tr>\n",
       "  </thead>\n",
       "  <tbody>\n",
       "    <tr>\n",
       "      <th>0</th>\n",
       "      <td>0</td>\n",
       "      <td>apple</td>\n",
       "      <td>5</td>\n",
       "      <td>1.959405</td>\n",
       "    </tr>\n",
       "    <tr>\n",
       "      <th>1</th>\n",
       "      <td>1</td>\n",
       "      <td>mango</td>\n",
       "      <td>5</td>\n",
       "      <td>2.142215</td>\n",
       "    </tr>\n",
       "    <tr>\n",
       "      <th>2</th>\n",
       "      <td>2</td>\n",
       "      <td>apple</td>\n",
       "      <td>6</td>\n",
       "      <td>0.605951</td>\n",
       "    </tr>\n",
       "    <tr>\n",
       "      <th>3</th>\n",
       "      <td>3</td>\n",
       "      <td>apple</td>\n",
       "      <td>3</td>\n",
       "      <td>3.366236</td>\n",
       "    </tr>\n",
       "    <tr>\n",
       "      <th>4</th>\n",
       "      <td>4</td>\n",
       "      <td>apple</td>\n",
       "      <td>11</td>\n",
       "      <td>2.503180</td>\n",
       "    </tr>\n",
       "    <tr>\n",
       "      <th>5</th>\n",
       "      <td>5</td>\n",
       "      <td>mango</td>\n",
       "      <td>11</td>\n",
       "      <td>2.535777</td>\n",
       "    </tr>\n",
       "    <tr>\n",
       "      <th>6</th>\n",
       "      <td>6</td>\n",
       "      <td>apple</td>\n",
       "      <td>8</td>\n",
       "      <td>2.928294</td>\n",
       "    </tr>\n",
       "    <tr>\n",
       "      <th>7</th>\n",
       "      <td>7</td>\n",
       "      <td>apple</td>\n",
       "      <td>6</td>\n",
       "      <td>3.028726</td>\n",
       "    </tr>\n",
       "  </tbody>\n",
       "</table>\n",
       "</div>"
      ],
      "text/plain": [
       "   basket_id  fruit  count    weight\n",
       "0          0  apple      5  1.959405\n",
       "1          1  mango      5  2.142215\n",
       "2          2  apple      6  0.605951\n",
       "3          3  apple      3  3.366236\n",
       "4          4  apple     11  2.503180\n",
       "5          5  mango     11  2.535777\n",
       "6          6  apple      8  2.928294\n",
       "7          7  apple      6  3.028726"
      ]
     },
     "execution_count": 16,
     "metadata": {},
     "output_type": "execute_result"
    }
   ],
   "source": [
    "fruit_data"
   ]
  },
  {
   "cell_type": "code",
   "execution_count": 18,
   "id": "251f9108",
   "metadata": {},
   "outputs": [
    {
     "name": "stdout",
     "output_type": "stream",
     "text": [
      "<class 'pandas.core.frame.DataFrame'>\n",
      "RangeIndex: 8 entries, 0 to 7\n",
      "Data columns (total 4 columns):\n",
      " #   Column     Non-Null Count  Dtype   \n",
      "---  ------     --------------  -----   \n",
      " 0   basket_id  8 non-null      int64   \n",
      " 1   fruit      8 non-null      category\n",
      " 2   count      8 non-null      int64   \n",
      " 3   weight     8 non-null      float64 \n",
      "dtypes: category(1), float64(1), int64(2)\n",
      "memory usage: 452.0 bytes\n"
     ]
    }
   ],
   "source": [
    "fruit_data.info()"
   ]
  },
  {
   "cell_type": "code",
   "execution_count": 21,
   "id": "6bc1a223",
   "metadata": {},
   "outputs": [
    {
     "data": {
      "text/plain": [
       "0    apple\n",
       "1    mango\n",
       "2    apple\n",
       "3    apple\n",
       "4    apple\n",
       "5    mango\n",
       "6    apple\n",
       "7    apple\n",
       "Name: fruit, dtype: category\n",
       "Categories (2, object): ['apple', 'mango']"
      ]
     },
     "execution_count": 21,
     "metadata": {},
     "output_type": "execute_result"
    }
   ],
   "source": [
    "fruit_data['fruit']"
   ]
  },
  {
   "cell_type": "code",
   "execution_count": 22,
   "id": "a098a894",
   "metadata": {},
   "outputs": [
    {
     "data": {
      "text/html": [
       "<div>\n",
       "<style scoped>\n",
       "    .dataframe tbody tr th:only-of-type {\n",
       "        vertical-align: middle;\n",
       "    }\n",
       "\n",
       "    .dataframe tbody tr th {\n",
       "        vertical-align: top;\n",
       "    }\n",
       "\n",
       "    .dataframe thead th {\n",
       "        text-align: right;\n",
       "    }\n",
       "</style>\n",
       "<table border=\"1\" class=\"dataframe\">\n",
       "  <thead>\n",
       "    <tr style=\"text-align: right;\">\n",
       "      <th></th>\n",
       "      <th>apple</th>\n",
       "      <th>mango</th>\n",
       "    </tr>\n",
       "  </thead>\n",
       "  <tbody>\n",
       "    <tr>\n",
       "      <th>0</th>\n",
       "      <td>1</td>\n",
       "      <td>0</td>\n",
       "    </tr>\n",
       "    <tr>\n",
       "      <th>1</th>\n",
       "      <td>0</td>\n",
       "      <td>1</td>\n",
       "    </tr>\n",
       "    <tr>\n",
       "      <th>2</th>\n",
       "      <td>1</td>\n",
       "      <td>0</td>\n",
       "    </tr>\n",
       "    <tr>\n",
       "      <th>3</th>\n",
       "      <td>1</td>\n",
       "      <td>0</td>\n",
       "    </tr>\n",
       "    <tr>\n",
       "      <th>4</th>\n",
       "      <td>1</td>\n",
       "      <td>0</td>\n",
       "    </tr>\n",
       "    <tr>\n",
       "      <th>5</th>\n",
       "      <td>0</td>\n",
       "      <td>1</td>\n",
       "    </tr>\n",
       "    <tr>\n",
       "      <th>6</th>\n",
       "      <td>1</td>\n",
       "      <td>0</td>\n",
       "    </tr>\n",
       "    <tr>\n",
       "      <th>7</th>\n",
       "      <td>1</td>\n",
       "      <td>0</td>\n",
       "    </tr>\n",
       "  </tbody>\n",
       "</table>\n",
       "</div>"
      ],
      "text/plain": [
       "   apple  mango\n",
       "0      1      0\n",
       "1      0      1\n",
       "2      1      0\n",
       "3      1      0\n",
       "4      1      0\n",
       "5      0      1\n",
       "6      1      0\n",
       "7      1      0"
      ]
     },
     "execution_count": 22,
     "metadata": {},
     "output_type": "execute_result"
    }
   ],
   "source": [
    "pd.get_dummies(fruit_data['fruit'])"
   ]
  },
  {
   "cell_type": "code",
   "execution_count": null,
   "id": "d4043535",
   "metadata": {},
   "outputs": [],
   "source": []
  },
  {
   "cell_type": "markdown",
   "id": "bcbaad2d",
   "metadata": {},
   "source": [
    "# group by "
   ]
  },
  {
   "cell_type": "code",
   "execution_count": 23,
   "id": "4ac21826",
   "metadata": {},
   "outputs": [],
   "source": [
    "df = pd.DataFrame({\n",
    "    'key':['a','b','c'] *4,\n",
    "    'value':np.arange(0,12)\n",
    "})"
   ]
  },
  {
   "cell_type": "code",
   "execution_count": 24,
   "id": "b6819f2b",
   "metadata": {},
   "outputs": [
    {
     "data": {
      "text/html": [
       "<div>\n",
       "<style scoped>\n",
       "    .dataframe tbody tr th:only-of-type {\n",
       "        vertical-align: middle;\n",
       "    }\n",
       "\n",
       "    .dataframe tbody tr th {\n",
       "        vertical-align: top;\n",
       "    }\n",
       "\n",
       "    .dataframe thead th {\n",
       "        text-align: right;\n",
       "    }\n",
       "</style>\n",
       "<table border=\"1\" class=\"dataframe\">\n",
       "  <thead>\n",
       "    <tr style=\"text-align: right;\">\n",
       "      <th></th>\n",
       "      <th>key</th>\n",
       "      <th>value</th>\n",
       "    </tr>\n",
       "  </thead>\n",
       "  <tbody>\n",
       "    <tr>\n",
       "      <th>0</th>\n",
       "      <td>a</td>\n",
       "      <td>0</td>\n",
       "    </tr>\n",
       "    <tr>\n",
       "      <th>1</th>\n",
       "      <td>b</td>\n",
       "      <td>1</td>\n",
       "    </tr>\n",
       "    <tr>\n",
       "      <th>2</th>\n",
       "      <td>c</td>\n",
       "      <td>2</td>\n",
       "    </tr>\n",
       "    <tr>\n",
       "      <th>3</th>\n",
       "      <td>a</td>\n",
       "      <td>3</td>\n",
       "    </tr>\n",
       "    <tr>\n",
       "      <th>4</th>\n",
       "      <td>b</td>\n",
       "      <td>4</td>\n",
       "    </tr>\n",
       "    <tr>\n",
       "      <th>5</th>\n",
       "      <td>c</td>\n",
       "      <td>5</td>\n",
       "    </tr>\n",
       "    <tr>\n",
       "      <th>6</th>\n",
       "      <td>a</td>\n",
       "      <td>6</td>\n",
       "    </tr>\n",
       "    <tr>\n",
       "      <th>7</th>\n",
       "      <td>b</td>\n",
       "      <td>7</td>\n",
       "    </tr>\n",
       "    <tr>\n",
       "      <th>8</th>\n",
       "      <td>c</td>\n",
       "      <td>8</td>\n",
       "    </tr>\n",
       "    <tr>\n",
       "      <th>9</th>\n",
       "      <td>a</td>\n",
       "      <td>9</td>\n",
       "    </tr>\n",
       "    <tr>\n",
       "      <th>10</th>\n",
       "      <td>b</td>\n",
       "      <td>10</td>\n",
       "    </tr>\n",
       "    <tr>\n",
       "      <th>11</th>\n",
       "      <td>c</td>\n",
       "      <td>11</td>\n",
       "    </tr>\n",
       "  </tbody>\n",
       "</table>\n",
       "</div>"
      ],
      "text/plain": [
       "   key  value\n",
       "0    a      0\n",
       "1    b      1\n",
       "2    c      2\n",
       "3    a      3\n",
       "4    b      4\n",
       "5    c      5\n",
       "6    a      6\n",
       "7    b      7\n",
       "8    c      8\n",
       "9    a      9\n",
       "10   b     10\n",
       "11   c     11"
      ]
     },
     "execution_count": 24,
     "metadata": {},
     "output_type": "execute_result"
    }
   ],
   "source": [
    "df"
   ]
  },
  {
   "cell_type": "code",
   "execution_count": 26,
   "id": "6c29be7c",
   "metadata": {},
   "outputs": [],
   "source": [
    "res = df.groupby('key').value"
   ]
  },
  {
   "cell_type": "code",
   "execution_count": 27,
   "id": "5522e702",
   "metadata": {},
   "outputs": [
    {
     "data": {
      "text/plain": [
       "key\n",
       "a    4\n",
       "b    4\n",
       "c    4\n",
       "Name: value, dtype: int64"
      ]
     },
     "execution_count": 27,
     "metadata": {},
     "output_type": "execute_result"
    }
   ],
   "source": [
    "res.count()"
   ]
  },
  {
   "cell_type": "code",
   "execution_count": 30,
   "id": "c208ff3b",
   "metadata": {},
   "outputs": [
    {
     "data": {
      "text/plain": [
       "b    4\n",
       "a    4\n",
       "c    4\n",
       "Name: key, dtype: int64"
      ]
     },
     "execution_count": 30,
     "metadata": {},
     "output_type": "execute_result"
    }
   ],
   "source": [
    "df['key'].value_counts()"
   ]
  },
  {
   "cell_type": "code",
   "execution_count": 31,
   "id": "de565982",
   "metadata": {},
   "outputs": [
    {
     "data": {
      "text/plain": [
       "key\n",
       "a     9\n",
       "b    10\n",
       "c    11\n",
       "Name: value, dtype: int64"
      ]
     },
     "execution_count": 31,
     "metadata": {},
     "output_type": "execute_result"
    }
   ],
   "source": [
    "res.max()"
   ]
  },
  {
   "cell_type": "code",
   "execution_count": 32,
   "id": "a7192de2",
   "metadata": {},
   "outputs": [
    {
     "data": {
      "text/plain": [
       "key\n",
       "a    0\n",
       "b    1\n",
       "c    2\n",
       "Name: value, dtype: int64"
      ]
     },
     "execution_count": 32,
     "metadata": {},
     "output_type": "execute_result"
    }
   ],
   "source": [
    "res.min()"
   ]
  },
  {
   "cell_type": "code",
   "execution_count": 33,
   "id": "7e0e25a1",
   "metadata": {},
   "outputs": [
    {
     "data": {
      "text/plain": [
       "key\n",
       "a    18\n",
       "b    22\n",
       "c    26\n",
       "Name: value, dtype: int64"
      ]
     },
     "execution_count": 33,
     "metadata": {},
     "output_type": "execute_result"
    }
   ],
   "source": [
    "res.sum()"
   ]
  },
  {
   "cell_type": "code",
   "execution_count": 34,
   "id": "f1856c89",
   "metadata": {},
   "outputs": [
    {
     "data": {
      "text/plain": [
       "key\n",
       "a    4.5\n",
       "b    5.5\n",
       "c    6.5\n",
       "Name: value, dtype: float64"
      ]
     },
     "execution_count": 34,
     "metadata": {},
     "output_type": "execute_result"
    }
   ],
   "source": [
    "res.mean()"
   ]
  },
  {
   "cell_type": "code",
   "execution_count": 35,
   "id": "b8d1b460",
   "metadata": {},
   "outputs": [
    {
     "data": {
      "text/plain": [
       "key\n",
       "a    4.5\n",
       "b    5.5\n",
       "c    6.5\n",
       "Name: value, dtype: float64"
      ]
     },
     "execution_count": 35,
     "metadata": {},
     "output_type": "execute_result"
    }
   ],
   "source": [
    "res.median()"
   ]
  },
  {
   "cell_type": "code",
   "execution_count": 36,
   "id": "6d9e9f83",
   "metadata": {},
   "outputs": [
    {
     "data": {
      "text/plain": [
       "key\n",
       "a    3.872983\n",
       "b    3.872983\n",
       "c    3.872983\n",
       "Name: value, dtype: float64"
      ]
     },
     "execution_count": 36,
     "metadata": {},
     "output_type": "execute_result"
    }
   ],
   "source": [
    "res.std()"
   ]
  },
  {
   "cell_type": "code",
   "execution_count": null,
   "id": "e4a2fafa",
   "metadata": {},
   "outputs": [],
   "source": []
  },
  {
   "cell_type": "code",
   "execution_count": null,
   "id": "a59d8ab7",
   "metadata": {},
   "outputs": [],
   "source": []
  },
  {
   "cell_type": "code",
   "execution_count": 37,
   "id": "c78c586b",
   "metadata": {},
   "outputs": [],
   "source": [
    "data = {\n",
    "    \"Punit\":\"punit@yahoo.com\",\n",
    "    \"Dharmesh\":\"dharmesh@gmail.com\",\n",
    "    \"Steve\":\"steve@apple.com\",\n",
    "    \"demo\":\"demo@gmail.com\"\n",
    "}"
   ]
  },
  {
   "cell_type": "code",
   "execution_count": 38,
   "id": "c7236268",
   "metadata": {},
   "outputs": [
    {
     "data": {
      "text/plain": [
       "{'Punit': 'punit@yahoo.com',\n",
       " 'Dharmesh': 'dharmesh@gmail.com',\n",
       " 'Steve': 'steve@apple.com',\n",
       " 'demo': 'demo@gmail.com'}"
      ]
     },
     "execution_count": 38,
     "metadata": {},
     "output_type": "execute_result"
    }
   ],
   "source": [
    "data"
   ]
  },
  {
   "cell_type": "code",
   "execution_count": 39,
   "id": "c91dde29",
   "metadata": {},
   "outputs": [],
   "source": [
    "email_ser = pd.Series(data)"
   ]
  },
  {
   "cell_type": "code",
   "execution_count": 40,
   "id": "6c89bdfa",
   "metadata": {},
   "outputs": [
    {
     "data": {
      "text/plain": [
       "Punit          punit@yahoo.com\n",
       "Dharmesh    dharmesh@gmail.com\n",
       "Steve          steve@apple.com\n",
       "demo            demo@gmail.com\n",
       "dtype: object"
      ]
     },
     "execution_count": 40,
     "metadata": {},
     "output_type": "execute_result"
    }
   ],
   "source": [
    "email_ser"
   ]
  },
  {
   "cell_type": "code",
   "execution_count": 41,
   "id": "86b93a23",
   "metadata": {},
   "outputs": [
    {
     "data": {
      "text/plain": [
       "Punit       False\n",
       "Dharmesh     True\n",
       "Steve       False\n",
       "demo         True\n",
       "dtype: bool"
      ]
     },
     "execution_count": 41,
     "metadata": {},
     "output_type": "execute_result"
    }
   ],
   "source": [
    "email_ser.str.contains('gmail')"
   ]
  },
  {
   "cell_type": "code",
   "execution_count": 42,
   "id": "e6dbb7ba",
   "metadata": {},
   "outputs": [
    {
     "data": {
      "text/plain": [
       "Punit          PUNIT@YAHOO.COM\n",
       "Dharmesh    DHARMESH@GMAIL.COM\n",
       "Steve          STEVE@APPLE.COM\n",
       "demo            DEMO@GMAIL.COM\n",
       "dtype: object"
      ]
     },
     "execution_count": 42,
     "metadata": {},
     "output_type": "execute_result"
    }
   ],
   "source": [
    "email_ser.str.upper()"
   ]
  },
  {
   "cell_type": "code",
   "execution_count": 43,
   "id": "405326c1",
   "metadata": {},
   "outputs": [
    {
     "data": {
      "text/plain": [
       "Punit       True\n",
       "Dharmesh    True\n",
       "Steve       True\n",
       "demo        True\n",
       "dtype: bool"
      ]
     },
     "execution_count": 43,
     "metadata": {},
     "output_type": "execute_result"
    }
   ],
   "source": [
    "email_ser.str.endswith('com')"
   ]
  },
  {
   "cell_type": "code",
   "execution_count": 44,
   "id": "c35a7295",
   "metadata": {},
   "outputs": [
    {
     "data": {
      "text/plain": [
       "Punit          [punit, yahoo.com]\n",
       "Dharmesh    [dharmesh, gmail.com]\n",
       "Steve          [steve, apple.com]\n",
       "demo            [demo, gmail.com]\n",
       "dtype: object"
      ]
     },
     "execution_count": 44,
     "metadata": {},
     "output_type": "execute_result"
    }
   ],
   "source": [
    "email_ser.str.split('@')"
   ]
  },
  {
   "cell_type": "code",
   "execution_count": null,
   "id": "d2e4dd72",
   "metadata": {},
   "outputs": [],
   "source": [
    "email_ser.str."
   ]
  }
 ],
 "metadata": {
  "kernelspec": {
   "display_name": "Python 3 (ipykernel)",
   "language": "python",
   "name": "python3"
  },
  "language_info": {
   "codemirror_mode": {
    "name": "ipython",
    "version": 3
   },
   "file_extension": ".py",
   "mimetype": "text/x-python",
   "name": "python",
   "nbconvert_exporter": "python",
   "pygments_lexer": "ipython3",
   "version": "3.8.8"
  }
 },
 "nbformat": 4,
 "nbformat_minor": 5
}
